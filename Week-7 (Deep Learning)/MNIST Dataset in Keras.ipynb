{
 "cells": [
  {
   "cell_type": "code",
   "execution_count": 4,
   "metadata": {},
   "outputs": [],
   "source": [
    "from tensorflow import keras\n",
    "from tensorflow.keras.datasets import mnist\n",
    "\n",
    "(train_images, train_labels), (test_images, test_labels) = mnist.load_data()"
   ]
  },
  {
   "cell_type": "code",
   "execution_count": 3,
   "metadata": {},
   "outputs": [
    {
     "ename": "NameError",
     "evalue": "name 'array' is not defined",
     "output_type": "error",
     "traceback": [
      "\u001b[1;31m---------------------------------------------------------------------------\u001b[0m",
      "\u001b[1;31mNameError\u001b[0m                                 Traceback (most recent call last)",
      "Cell \u001b[1;32mIn[3], line 4\u001b[0m\n\u001b[0;32m      2\u001b[0m x \u001b[39m=\u001b[39m np\u001b[39m.\u001b[39marray(\u001b[39m12\u001b[39m)\n\u001b[0;32m      3\u001b[0m x\n\u001b[1;32m----> 4\u001b[0m array(\u001b[39m12\u001b[39m)\n\u001b[0;32m      6\u001b[0m x\u001b[39m.\u001b[39mndim\n\u001b[0;32m      7\u001b[0m \u001b[39m0\u001b[39m\n",
      "\u001b[1;31mNameError\u001b[0m: name 'array' is not defined"
     ]
    }
   ],
   "source": [
    "# Scalars (Rank-0 Tensors)\n",
    "x = np.array(12)\n",
    "x\n",
    "array(12)\n",
    "\n",
    "x.ndim\n",
    "0"
   ]
  },
  {
   "cell_type": "code",
   "execution_count": null,
   "metadata": {},
   "outputs": [],
   "source": [
    "# Vectors (Rank-1 Tensors)\n",
    "\n",
    "x = np.array([12, 3, 6, 14, 7])\n",
    "x\n",
    "array([12, 3, 6, 14, 7])\n",
    "x.ndim\n",
    "1"
   ]
  },
  {
   "cell_type": "code",
   "execution_count": null,
   "metadata": {},
   "outputs": [],
   "source": [
    "# Matrices (Rank-2 Tensors)\n",
    "x = np.array([[5, 78, 2, 34, 0],\n",
    "[6, 79, 3, 35, 1],\n",
    "[7, 80, 4, 36, 2]])\n",
    "x.ndim\n",
    "2"
   ]
  },
  {
   "cell_type": "code",
   "execution_count": null,
   "metadata": {},
   "outputs": [],
   "source": [
    "# Rank-3 & Higher-rank Tensors\n",
    "x = np.array([[[5, 78, 2, 34, 0],\n",
    "[6, 79, 3, 35, 1],\n",
    "[7, 80, 4, 36, 2]],\n",
    "[[5, 78, 2, 34, 0],\n",
    "[6, 79, 3, 35, 1],\n",
    "[7, 80, 4, 36, 2]],\n",
    "[[5, 78, 2, 34, 0],\n",
    "[6, 79, 3, 35, 1],\n",
    "[7, 80, 4, 36, 2]]])\n",
    "x.ndim\n",
    "3"
   ]
  },
  {
   "cell_type": "code",
   "execution_count": null,
   "metadata": {},
   "outputs": [],
   "source": [
    "# Key Attributes\n",
    "from tensorflow.keras.datasets import mnist\n",
    "(train_images, train_labels), (test_images, test_labels) = mnist.load_data()\n",
    "train_images.ndim\n",
    "3\n",
    "train_images.shape\n",
    "(60000, 28, 28)"
   ]
  },
  {
   "cell_type": "code",
   "execution_count": null,
   "metadata": {},
   "outputs": [],
   "source": [
    "# Key Attributes\n",
    "train_images.dtype\n",
    "dtype('uint8')"
   ]
  },
  {
   "cell_type": "code",
   "execution_count": null,
   "metadata": {},
   "outputs": [],
   "source": [
    "# Display the Data\n",
    "import matplotlib.pyplot as plt\n",
    "digit = train_images[4]\n",
    "plt.imshow(digit, cmap=plt.cm.binary)\n",
    "plt.show()\n",
    "train_labels[4]\n",
    "9"
   ]
  },
  {
   "cell_type": "code",
   "execution_count": null,
   "metadata": {},
   "outputs": [],
   "source": [
    "# Manipulating Tensors in NumPy\n",
    "my_slice = train_images[10:100]\n",
    "my_slice.shape\n",
    "(90, 28, 28)\n",
    "my_slice = train_images[10:100, :, :]\n",
    "my_slice.shape\n",
    "(90, 28, 28)\n",
    "my_slice = train_images[10:100, 0:28, 0:28]\n",
    "my_slice.shape\n",
    "(90, 28, 28)\n",
    "my_slice = train_images[:, 14:, 14:]\n",
    "my_slice.shape\n",
    "(60000, 14, 14)\n",
    "\n",
    "my_slice = train_images[:, 7:-7, 7:-7]\n",
    "my_slice.shape\n",
    "(60000, 14, 14)"
   ]
  },
  {
   "cell_type": "code",
   "execution_count": null,
   "metadata": {},
   "outputs": [],
   "source": [
    "# The Notion of Data Batches\n",
    "batch = train_images[:128]\n",
    "batch.shape\n",
    "(128, 28, 28)\n",
    "batch = train_images[128:256]\n",
    "batch.shape\n",
    "(128, 28, 28)\n",
    "n = 3\n",
    "batch = train_images[128 * n:128 * (n + 1)]\n",
    "batch.shape\n",
    "(128, 28, 28)"
   ]
  }
 ],
 "metadata": {
  "kernelspec": {
   "display_name": "Python 3",
   "language": "python",
   "name": "python3"
  },
  "language_info": {
   "codemirror_mode": {
    "name": "ipython",
    "version": 3
   },
   "file_extension": ".py",
   "mimetype": "text/x-python",
   "name": "python",
   "nbconvert_exporter": "python",
   "pygments_lexer": "ipython3",
   "version": "3.10.10"
  },
  "orig_nbformat": 4
 },
 "nbformat": 4,
 "nbformat_minor": 2
}
