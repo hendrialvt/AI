{
 "cells": [
  {
   "cell_type": "code",
   "execution_count": 1,
   "metadata": {},
   "outputs": [
    {
     "name": "stdout",
     "output_type": "stream",
     "text": [
      "Berhasil\n"
     ]
    }
   ],
   "source": [
    "import pandas as pd\n",
    "import openpyxl\n",
    "\n",
    "wBook = openpyxl.load_workbook(r'C:\\Users\\Dinova\\Desktop\\Important\\Semester 6\\AI\\Homework-01\\Tugas 7.xlsx')\n",
    "sheet = wBook.active\n",
    "\n",
    "n = int(input('How many records you want to insert: '))\n",
    "for i in range(n):\n",
    "    Nama = input(f'{i+1}. Enter Nama: ')\n",
    "    NPM = input(f'{i+1}. Enter NPM: ')\n",
    "    JenisKelamin = input(f'{i+1}. Enter JenisKelamin: ')\n",
    "    data = [Nama, NPM, JenisKelamin ]\n",
    "    wBook.save(r'C:\\Users\\Dinova\\Desktop\\Important\\Semester 6\\AI\\Homework-01\\Tugas 7.xlsx')\n",
    "print('Berhasil')"
   ]
  }
 ],
 "metadata": {
  "kernelspec": {
   "display_name": "Python 3",
   "language": "python",
   "name": "python3"
  },
  "language_info": {
   "codemirror_mode": {
    "name": "ipython",
    "version": 3
   },
   "file_extension": ".py",
   "mimetype": "text/x-python",
   "name": "python",
   "nbconvert_exporter": "python",
   "pygments_lexer": "ipython3",
   "version": "3.10.10"
  },
  "orig_nbformat": 4,
  "vscode": {
   "interpreter": {
    "hash": "232fe09c8eb56775507d38914a96b642aa17d5829597a1c3b6b6f2e80d46f738"
   }
  }
 },
 "nbformat": 4,
 "nbformat_minor": 2
}
