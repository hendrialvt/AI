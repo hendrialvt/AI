{
 "cells": [
  {
   "cell_type": "code",
   "execution_count": 22,
   "metadata": {},
   "outputs": [
    {
     "name": "stdout",
     "output_type": "stream",
     "text": [
      "  Day-Part Start Time End Time\n",
      "0  Morning       6:00    10:00\n"
     ]
    }
   ],
   "source": [
    "import pandas as pd\n",
    "\n",
    "df = pd.DataFrame(columns=[\"Day-Part\", \"Start Time\", \"End Time\"])\n",
    "parts = int(input(\"Enter the number of day parts:\"))\n",
    "\n",
    "for _ in range(parts):\n",
    "    dp = input(\"Enter Part of the Day \")\n",
    "    st = input(\"Enter start time for {}\".format(dp))\n",
    "    et = input(\"Enter end time for {}\".format(dp))\n",
    "    df1 = pd.DataFrame(data=[[dp,st,et]],columns=[\"Day-Part\", \"Start Time\", \"End Time\"])\n",
    "    df = pd.concat([df,df1], axis=0)\n",
    "\n",
    "df.index = range(len(df.index))\n",
    "print(df)"
   ]
  },
  {
   "cell_type": "code",
   "execution_count": 39,
   "metadata": {},
   "outputs": [
    {
     "name": "stdout",
     "output_type": "stream",
     "text": [
      "      Nama            NPM Jenis Kelamin Tempat Lahir   Tanggal Lahir  \\\n",
      "0   HENDRI  1313131312312     LAKI-LAKI      JAKARTA  243 DEDWDW1 31   \n",
      "1  JDWDJIW     3131432423          FWFW         FWFW     1231 EWFE24   \n",
      "\n",
      "        No HP  \n",
      "0  0823018321  \n",
      "1  4243243224  \n",
      "Berhasil di Save ke Excel\n"
     ]
    },
    {
     "name": "stderr",
     "output_type": "stream",
     "text": [
      "C:\\Users\\Dinova\\AppData\\Local\\Temp\\ipykernel_19200\\3482948632.py:20: FutureWarning: save is not part of the public API, usage can give unexpected results and will be removed in a future version\n",
      "  writer.save()\n"
     ]
    }
   ],
   "source": [
    "import pandas as pd\n",
    "\n",
    "df = pd.DataFrame(columns=[\"Nama\", \"NPM\", \"Jenis Kelamin\",\"Tempat Lahir\",\"Tanggal Lahir\",\"No HP\"])\n",
    "parts = int(input(\"Berapa Mahasiswa yang ingin di Input?\"))\n",
    "\n",
    "for _ in range(parts):\n",
    "    a = input(\"Masukkan Nama Mahasiswa\")\n",
    "    b = input(\"Masukkan NPM Mahasiswa\".format(dp))\n",
    "    c = input(\"Masukkan Jenis Kelamin Mahasiswa\")\n",
    "    d = input(\"Masukkan Tempat Lahir Mahasiswa\")\n",
    "    e = input(\"Masukkan Tanggal Lahir Mahasiswa\")\n",
    "    f = input(\"Masukkan No HP Mahasiswa\".format(dp))\n",
    "    df1 = pd.DataFrame(data=[[a,b,c,d,e,f]],columns=[\"Nama\", \"NPM\", \"Jenis Kelamin\",\"Tempat Lahir\",\"Tanggal Lahir\",\"No HP\"])\n",
    "    df = pd.concat([df,df1])\n",
    "\n",
    "writer = pd.ExcelWriter(r'C:\\Users\\Dinova\\Desktop\\Important\\Semester 6\\AI\\Homework-01\\Tugas 7.xlsx', engine='xlsxwriter')\n",
    "df.to_excel(writer,sheet_name='Sheet1', index=False)\n",
    "df.index = range(len(df.index))\n",
    "print(df)\n",
    "writer.save()\n",
    "print('Berhasil di Save ke Excel')\n",
    "\n"
   ]
  }
 ],
 "metadata": {
  "kernelspec": {
   "display_name": "Python 3",
   "language": "python",
   "name": "python3"
  },
  "language_info": {
   "codemirror_mode": {
    "name": "ipython",
    "version": 3
   },
   "file_extension": ".py",
   "mimetype": "text/x-python",
   "name": "python",
   "nbconvert_exporter": "python",
   "pygments_lexer": "ipython3",
   "version": "3.10.10"
  },
  "orig_nbformat": 4,
  "vscode": {
   "interpreter": {
    "hash": "232fe09c8eb56775507d38914a96b642aa17d5829597a1c3b6b6f2e80d46f738"
   }
  }
 },
 "nbformat": 4,
 "nbformat_minor": 2
}
