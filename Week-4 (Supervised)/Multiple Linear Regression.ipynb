{
 "cells": [
  {
   "cell_type": "code",
   "execution_count": 1,
   "metadata": {},
   "outputs": [
    {
     "name": "stdout",
     "output_type": "stream",
     "text": [
      "Coefficients: \n",
      " [0.3 0.3 0.3]\n",
      "Intercept: \n",
      " 1.0\n",
      "Predition: \n",
      " [7.9]\n"
     ]
    }
   ],
   "source": [
    "from sklearn import linear_model\n",
    "import numpy as np\n",
    "\n",
    "x= np.array([[0,3,5],[1,4,6],[2,5,7],[3,6,8],[4,7,9]])\n",
    "y= np.array([3,5,5,6,7])\n",
    "\n",
    "reg= linear_model.LinearRegression()\n",
    "reg.fit(x, y)\n",
    "\n",
    "print('Coefficients: \\n', reg.coef_)\n",
    "print('Intercept: \\n', reg.intercept_)\n",
    "pred= reg.predict([[5,8,10]])\n",
    "print('Predition: \\n', pred)"
   ]
  }
 ],
 "metadata": {
  "kernelspec": {
   "display_name": "base",
   "language": "python",
   "name": "python3"
  },
  "language_info": {
   "codemirror_mode": {
    "name": "ipython",
    "version": 3
   },
   "file_extension": ".py",
   "mimetype": "text/x-python",
   "name": "python",
   "nbconvert_exporter": "python",
   "pygments_lexer": "ipython3",
   "version": "3.9.13"
  },
  "orig_nbformat": 4,
  "vscode": {
   "interpreter": {
    "hash": "51f0f47f7e8c68e154445eecb84b76e851c87bc004b6bcbf384d0629694a085e"
   }
  }
 },
 "nbformat": 4,
 "nbformat_minor": 2
}
