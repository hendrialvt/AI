{
 "cells": [
  {
   "cell_type": "code",
   "execution_count": 1,
   "metadata": {},
   "outputs": [
    {
     "name": "stdout",
     "output_type": "stream",
     "text": [
      "Best fit a b c:  [ 4.09564212e+02  6.21466356e-02 -3.04106531e+02]\n",
      "Best fit covariance:  [[ 4.92882349e+05 -8.73845292e+01 -4.95819953e+05]\n",
      " [-8.73845292e+01  1.55361498e-02  8.79409202e+01]\n",
      " [-4.95819953e+05  8.79409202e+01  4.98815648e+05]]\n"
     ]
    },
    {
     "name": "stderr",
     "output_type": "stream",
     "text": [
      "C:\\Users\\Dinova\\AppData\\Local\\Temp\\ipykernel_14080\\1300980903.py:8: RuntimeWarning: overflow encountered in exp\n",
      "  return a* np.exp(-b* x) + c\n"
     ]
    }
   ],
   "source": [
    "import numpy as np\n",
    "import scipy.optimize as optimization\n",
    "\n",
    "x= np.array([0,1,2,3,4,5])\n",
    "\n",
    "y= np.array([100,90,60,30,10,1])\n",
    "def func(x, a, b, c):\n",
    "    return a* np.exp(-b* x) + c\n",
    "\n",
    "popt, pcov= optimization.curve_fit(func, x, y)\n",
    "print(\"Best fit a b c: \",popt)\n",
    "print(\"Best fit covariance: \",pcov)"
   ]
  }
 ],
 "metadata": {
  "kernelspec": {
   "display_name": "base",
   "language": "python",
   "name": "python3"
  },
  "language_info": {
   "codemirror_mode": {
    "name": "ipython",
    "version": 3
   },
   "file_extension": ".py",
   "mimetype": "text/x-python",
   "name": "python",
   "nbconvert_exporter": "python",
   "pygments_lexer": "ipython3",
   "version": "3.9.13"
  },
  "orig_nbformat": 4,
  "vscode": {
   "interpreter": {
    "hash": "51f0f47f7e8c68e154445eecb84b76e851c87bc004b6bcbf384d0629694a085e"
   }
  }
 },
 "nbformat": 4,
 "nbformat_minor": 2
}
