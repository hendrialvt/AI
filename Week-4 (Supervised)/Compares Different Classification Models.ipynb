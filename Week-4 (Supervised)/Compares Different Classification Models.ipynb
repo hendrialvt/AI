{
 "cells": [
  {
   "cell_type": "code",
   "execution_count": 2,
   "metadata": {},
   "outputs": [
    {
     "name": "stdout",
     "output_type": "stream",
     "text": [
      "SVM: 0.9466666666666667\n",
      "Naive Bayes: 0.9466666666666667\n",
      "LDA: 0.96\n",
      "QDA: 0.96\n",
      "Decision Tree: 0.96\n",
      "Random Forest: 0.9333333333333333\n",
      "Nearest Neighbors: 0.96\n"
     ]
    },
    {
     "name": "stderr",
     "output_type": "stream",
     "text": [
      "c:\\Users\\Dinova\\anaconda3\\lib\\site-packages\\sklearn\\neighbors\\_classification.py:228: FutureWarning: Unlike other reduction functions (e.g. `skew`, `kurtosis`), the default behavior of `mode` typically preserves the axis it acts along. In SciPy 1.11.0, this behavior will change: the default value of `keepdims` will become False, the `axis` over which the statistic is taken will be eliminated, and the value None will no longer be accepted. Set `keepdims` to True or False to avoid this warning.\n",
      "  mode, _ = stats.mode(_y[neigh_ind, k], axis=1)\n"
     ]
    },
    {
     "name": "stdout",
     "output_type": "stream",
     "text": [
      "Neural Networks: 0.9866666666666667\n"
     ]
    }
   ],
   "source": [
    "from sklearn.datasets import load_iris\n",
    "from sklearn.model_selection import train_test_split\n",
    "from sklearn.svm import SVC\n",
    "from sklearn.naive_bayes import GaussianNB\n",
    "from sklearn.discriminant_analysis import LinearDiscriminantAnalysis\n",
    "from sklearn.tree import DecisionTreeClassifier\n",
    "from sklearn.ensemble import RandomForestClassifier\n",
    "from sklearn.neighbors import KNeighborsClassifier\n",
    "from sklearn.neural_network import MLPClassifier\n",
    "from sklearn.discriminant_analysis import QuadraticDiscriminantAnalysis\n",
    "\n",
    "names= [ \"SVM\", \"Naive Bayes\", \"LDA\", \"QDA\", \"Decision Tree\", \"Random Forest\",\n",
    "        \"Nearest Neighbors\", \"Neural Networks\"]\n",
    "classifiers= [ SVC(), GaussianNB(), LinearDiscriminantAnalysis(), QuadraticDiscriminantAnalysis(),\n",
    "            DecisionTreeClassifier(), RandomForestClassifier(), KNeighborsClassifier(),\n",
    "            MLPClassifier(alpha=1, max_iter=1000)]\n",
    "X, y= load_iris(return_X_y=True)\n",
    "X_train, X_test, y_train, y_test= train_test_split(X, y, test_size=0.5, random_state=0)\n",
    "\n",
    "for name, clf in zip(names, classifiers):\n",
    "    clf.fit(X_train, y_train)\n",
    "    score= clf.score(X_test, y_test)\n",
    "    print(name+\": \"+ str(score))"
   ]
  }
 ],
 "metadata": {
  "kernelspec": {
   "display_name": "base",
   "language": "python",
   "name": "python3"
  },
  "language_info": {
   "codemirror_mode": {
    "name": "ipython",
    "version": 3
   },
   "file_extension": ".py",
   "mimetype": "text/x-python",
   "name": "python",
   "nbconvert_exporter": "python",
   "pygments_lexer": "ipython3",
   "version": "3.9.13"
  },
  "orig_nbformat": 4,
  "vscode": {
   "interpreter": {
    "hash": "51f0f47f7e8c68e154445eecb84b76e851c87bc004b6bcbf384d0629694a085e"
   }
  }
 },
 "nbformat": 4,
 "nbformat_minor": 2
}
