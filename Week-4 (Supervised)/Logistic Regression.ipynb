{
 "cells": [
  {
   "cell_type": "code",
   "execution_count": 1,
   "metadata": {},
   "outputs": [
    {
     "name": "stdout",
     "output_type": "stream",
     "text": [
      "[31]\n",
      "[[0.00111369 0.00810381 0.03285485 0.09764849 0.61051015 0.24976901]]\n",
      "0.6666666666666666\n"
     ]
    }
   ],
   "source": [
    "import numpy as np\n",
    "from sklearn.linear_model import LogisticRegression\n",
    "\n",
    "X= np.array([[0],[1],[2],[3],[4],[5]])\n",
    "y= np.array([1,2,3,30,32,31])\n",
    "\n",
    "clf= LogisticRegression(random_state=0).fit(X, y)\n",
    "print(clf.predict([[6]]))\n",
    "print(clf.predict_proba([[6]]))\n",
    "print(clf.score(X, y))"
   ]
  }
 ],
 "metadata": {
  "kernelspec": {
   "display_name": "base",
   "language": "python",
   "name": "python3"
  },
  "language_info": {
   "codemirror_mode": {
    "name": "ipython",
    "version": 3
   },
   "file_extension": ".py",
   "mimetype": "text/x-python",
   "name": "python",
   "nbconvert_exporter": "python",
   "pygments_lexer": "ipython3",
   "version": "3.9.13"
  },
  "orig_nbformat": 4,
  "vscode": {
   "interpreter": {
    "hash": "51f0f47f7e8c68e154445eecb84b76e851c87bc004b6bcbf384d0629694a085e"
   }
  }
 },
 "nbformat": 4,
 "nbformat_minor": 2
}
