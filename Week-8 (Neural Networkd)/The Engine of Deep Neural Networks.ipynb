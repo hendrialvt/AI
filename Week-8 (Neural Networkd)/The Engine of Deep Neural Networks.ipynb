{
 "cells": [
  {
   "cell_type": "code",
   "execution_count": null,
   "metadata": {},
   "outputs": [],
   "source": [
    "# The Gradient Example\n",
    "\n",
    "y_pred = dot(W, x)\n",
    "loss_value = loss(y_pred, y_true)\n",
    "\n",
    "loss_value = f(W)"
   ]
  },
  {
   "cell_type": "code",
   "execution_count": null,
   "metadata": {},
   "outputs": [],
   "source": [
    "# The Gradient Tape in Tensorflow\n",
    "\n",
    "import tensorflow as tf\n",
    "x= tf.Variable(0.)\n",
    "with tf.GradientTape() as tape:\n",
    "    y= 2 * x+ 3\n",
    "grad_of_y_wrt_x= tape.gradient(y, x)\n",
    "\n",
    "\n",
    "x = tf.Variable(tf.random.uniform((2, 2)))\n",
    "with tf.GradientTape() as tape:\n",
    "    y= 2 * x+ 3\n",
    "grad_of_y_wrt_x= tape.gradient(y, x)\n",
    "\n",
    "W= tf.Variable(tf.random.uniform((2, 2)))\n",
    "b= tf.Variable(tf.zeros((2,)))\n",
    "x= tf.random.uniform((2, 2))\n",
    "\n",
    "with tf.GradientTape() as tape:\n",
    "    y= tf.matmul(x, W) + b\n",
    "    \n",
    "grad_of_y_wrt_W_and_b= tape.gradient(y, [W, b])"
   ]
  }
 ],
 "metadata": {
  "language_info": {
   "name": "python"
  },
  "orig_nbformat": 4
 },
 "nbformat": 4,
 "nbformat_minor": 2
}
