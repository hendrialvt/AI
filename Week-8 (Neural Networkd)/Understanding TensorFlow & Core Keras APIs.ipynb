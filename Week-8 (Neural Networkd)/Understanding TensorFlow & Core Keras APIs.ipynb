{
 "cells": [
  {
   "cell_type": "code",
   "execution_count": 8,
   "metadata": {},
   "outputs": [
    {
     "name": "stdout",
     "output_type": "stream",
     "text": [
      "tf.Tensor(\n",
      "[[1.]\n",
      " [1.]], shape=(2, 1), dtype=float32)\n",
      "tf.Tensor(\n",
      "[[0.]\n",
      " [0.]], shape=(2, 1), dtype=float32)\n",
      "tf.Tensor(\n",
      "[[-0.1414511 ]\n",
      " [ 0.30171663]\n",
      " [ 1.5225    ]], shape=(3, 1), dtype=float32)\n",
      "tf.Tensor(\n",
      "[[0.7046331 ]\n",
      " [0.60110664]\n",
      " [0.19187438]], shape=(3, 1), dtype=float32)\n"
     ]
    }
   ],
   "source": [
    "# Constant Tensors & Variables\n",
    "\n",
    "import tensorflow as tf\n",
    "\n",
    "x= tf.ones(shape=(2, 1))\n",
    "print(x)\n",
    "\n",
    "x= tf.zeros(shape=(2, 1))\n",
    "print(x)\n",
    "\n",
    "x= tf.random.normal(shape=(3, 1), mean=0., stddev=1.)\n",
    "print(x)\n",
    "\n",
    "x= tf.random.uniform(shape=(3, 1), minval=0., maxval=1.)\n",
    "print(x)"
   ]
  },
  {
   "cell_type": "code",
   "execution_count": 10,
   "metadata": {},
   "outputs": [
    {
     "ename": "TypeError",
     "evalue": "'tensorflow.python.framework.ops.EagerTensor' object does not support item assignment",
     "output_type": "error",
     "traceback": [
      "\u001b[1;31m---------------------------------------------------------------------------\u001b[0m",
      "\u001b[1;31mTypeError\u001b[0m                                 Traceback (most recent call last)",
      "Cell \u001b[1;32mIn[10], line 9\u001b[0m\n\u001b[0;32m      7\u001b[0m \u001b[39mimport\u001b[39;00m \u001b[39mtensorflow\u001b[39;00m \u001b[39mas\u001b[39;00m \u001b[39mtf\u001b[39;00m\n\u001b[0;32m      8\u001b[0m x\u001b[39m=\u001b[39m tf\u001b[39m.\u001b[39mones(shape\u001b[39m=\u001b[39m(\u001b[39m2\u001b[39m, \u001b[39m2\u001b[39m))\n\u001b[1;32m----> 9\u001b[0m x[\u001b[39m0\u001b[39;49m, \u001b[39m0\u001b[39;49m] \u001b[39m=\u001b[39m \u001b[39m0.\u001b[39m\n",
      "\u001b[1;31mTypeError\u001b[0m: 'tensorflow.python.framework.ops.EagerTensor' object does not support item assignment"
     ]
    }
   ],
   "source": [
    "# Constant Tensors & Variables: Assignment yang error dikarenakan harus assign terlebih dahulu\n",
    "\n",
    "import numpy as np\n",
    "x= np.ones(shape=(2, 2))\n",
    "x[0, 0] = 0.\n",
    "\n",
    "import tensorflow as tf\n",
    "x= tf.ones(shape=(2, 2))\n",
    "x[0, 0] = 0.\n"
   ]
  },
  {
   "cell_type": "code",
   "execution_count": 13,
   "metadata": {},
   "outputs": [
    {
     "name": "stdout",
     "output_type": "stream",
     "text": [
      "<tf.Variable 'Variable:0' shape=(3, 1) dtype=float32, numpy=\n",
      "array([[-0.46506685],\n",
      "       [ 0.69718117],\n",
      "       [-1.2275548 ]], dtype=float32)>\n",
      "<tf.Variable 'Variable:0' shape=(3, 1) dtype=float32, numpy=\n",
      "array([[1.],\n",
      "       [1.],\n",
      "       [1.]], dtype=float32)>\n",
      "<tf.Variable 'Variable:0' shape=(3, 1) dtype=float32, numpy=\n",
      "array([[3.],\n",
      "       [1.],\n",
      "       [1.]], dtype=float32)>\n",
      "<tf.Variable 'Variable:0' shape=(3, 1) dtype=float32, numpy=\n",
      "array([[4.],\n",
      "       [2.],\n",
      "       [2.]], dtype=float32)>\n"
     ]
    }
   ],
   "source": [
    "# Constant Tensors & Variables: Assignment\n",
    "\n",
    "v= tf.Variable(initial_value=tf.random.normal(shape=(3, 1)))\n",
    "print(v)\n",
    "\n",
    "v.assign(tf.ones((3, 1)))\n",
    "print(v)\n",
    "\n",
    "v[0, 0].assign(3.)\n",
    "print(v)\n",
    "\n",
    "v.assign_add(tf.ones((3, 1)))\n",
    "print(v)"
   ]
  },
  {
   "cell_type": "code",
   "execution_count": 3,
   "metadata": {},
   "outputs": [
    {
     "name": "stdout",
     "output_type": "stream",
     "text": [
      "tf.Tensor(\n",
      "[[1. 1.]\n",
      " [1. 1.]], shape=(2, 2), dtype=float32)\n",
      "tf.Tensor(\n",
      "[[1. 1.]\n",
      " [1. 1.]], shape=(2, 2), dtype=float32)\n",
      "tf.Tensor(\n",
      "[[1. 1.]\n",
      " [1. 1.]], shape=(2, 2), dtype=float32)\n",
      "tf.Tensor(\n",
      "[[2. 2.]\n",
      " [2. 2.]], shape=(2, 2), dtype=float32)\n",
      "tf.Tensor(\n",
      "[[4. 4.]\n",
      " [4. 4.]], shape=(2, 2), dtype=float32)\n"
     ]
    }
   ],
   "source": [
    "# Doing Math in TensorFlow\n",
    "\n",
    "import tensorflow as tf\n",
    "\n",
    "a= tf.ones((2, 2))\n",
    "b= tf.square(a)             # Take the square\n",
    "c= tf.sqrt(a)               # Take the square root\n",
    "d= b + c                     # Add two tensors (element-wise)\n",
    "e= tf.matmul(a, b)          # Take the product of two tensors\n",
    "e*= d                       # Multiply two tensors (element-wise)\n",
    "\n",
    "print(a)\n",
    "print(b)\n",
    "print(c)\n",
    "print(d)\n",
    "print(e)"
   ]
  },
  {
   "cell_type": "code",
   "execution_count": 5,
   "metadata": {},
   "outputs": [],
   "source": [
    "# GradientTape API\n",
    "\n",
    "input_var= tf.Variable(initial_value=3.)\n",
    "with tf.GradientTape() as tape:\n",
    "    result= tf.square(input_var)\n",
    "gradient= tape.gradient(result, input_var)\n",
    "\n",
    "input_const= tf.constant(3.)\n",
    "with tf.GradientTape() as tape:\n",
    "    tape.watch(input_const)\n",
    "    result= tf.square(input_const)\n",
    "gradient= tape.gradient(result, input_const)\n",
    "\n",
    "time= tf.Variable(0.)\n",
    "\n",
    "with tf.GradientTape() as outer_tape:\n",
    "    with tf.GradientTape() as inner_tape:\n",
    "        position= 4.9* time** 2\n",
    "    speed= inner_tape.gradient(position, time)\n",
    "acceleration= outer_tape.gradient(speed, time)"
   ]
  },
  {
   "cell_type": "code",
   "execution_count": 7,
   "metadata": {},
   "outputs": [
    {
     "name": "stdout",
     "output_type": "stream",
     "text": [
      "(2, 32)\n"
     ]
    },
    {
     "data": {
      "text/plain": [
       "(2, 32)"
      ]
     },
     "execution_count": 7,
     "metadata": {},
     "output_type": "execute_result"
    }
   ],
   "source": [
    "# The Base Layer Class in Keras\n",
    "\n",
    "from tensorflow import keras \n",
    "class SimpleDense(keras.layers.Layer):\n",
    "    def __init__(self, units, activation=None):\n",
    "        super().__init__()\n",
    "        self.units= units\n",
    "        self.activation= activation\n",
    "        \n",
    "    def build(self, input_shape):\n",
    "        input_dim=     input_shape[-1]\n",
    "        self.W= self.add_weight(shape=(input_dim, self.units),initializer=\"random_normal\")\n",
    "        self.b= self.add_weight(shape=(self.units,),initializer=\"zeros\")\n",
    "        \n",
    "    def call(self, inputs):\n",
    "        y = tf.matmul(inputs, self.W) + self.b\n",
    "        if self.activation is not None:\n",
    "            y = self.activation(y)\n",
    "        return y\n",
    "    \n",
    "my_dense= SimpleDense(units=32, activation=tf.  nn.relu)\n",
    "input_tensor= tf.  ones(shape=(2  , 784))\n",
    "output_tensor= my_dense(input_tensor)\n",
    "print(output_tensor.shape)\n",
    "(2, 32)"
   ]
  },
  {
   "cell_type": "code",
   "execution_count": null,
   "metadata": {},
   "outputs": [],
   "source": []
  },
  {
   "cell_type": "code",
   "execution_count": 16,
   "metadata": {},
   "outputs": [
    {
     "ename": "NameError",
     "evalue": "name 'NaiveDense' is not defined",
     "output_type": "error",
     "traceback": [
      "\u001b[1;31m---------------------------------------------------------------------------\u001b[0m",
      "\u001b[1;31mNameError\u001b[0m                                 Traceback (most recent call last)",
      "Cell \u001b[1;32mIn[16], line 12\u001b[0m\n\u001b[0;32m      4\u001b[0m \u001b[39mfrom\u001b[39;00m \u001b[39mtensorflow\u001b[39;00m\u001b[39m.\u001b[39;00m\u001b[39mkeras\u001b[39;00m \u001b[39mimport\u001b[39;00m layers, models\n\u001b[0;32m      6\u001b[0m model\u001b[39m=\u001b[39m models\u001b[39m.\u001b[39mSequential([\n\u001b[0;32m      7\u001b[0m     layers\u001b[39m.\u001b[39mDense(\n\u001b[0;32m      8\u001b[0m         \u001b[39m32\u001b[39m, activation\u001b[39m=\u001b[39m\u001b[39m\"\u001b[39m\u001b[39mrelu\u001b[39m\u001b[39m\"\u001b[39m)\n\u001b[0;32m      9\u001b[0m     ,layers\u001b[39m.\u001b[39mDense(\u001b[39m32\u001b[39m)])\n\u001b[0;32m     11\u001b[0m model\u001b[39m=\u001b[39m models\u001b[39m.\u001b[39mSequential([\n\u001b[1;32m---> 12\u001b[0m     NaiveDense(input_size\u001b[39m=\u001b[39m\u001b[39m784\u001b[39m , output_size\u001b[39m=\u001b[39m\u001b[39m32\u001b[39m, activation\u001b[39m=\u001b[39m\u001b[39m\"\u001b[39m\u001b[39mrelu\u001b[39m\u001b[39m\"\u001b[39m),\n\u001b[0;32m     13\u001b[0m     NaiveDense(input_size\u001b[39m=\u001b[39m\u001b[39m32\u001b[39m, output_size\u001b[39m=\u001b[39m\u001b[39m64\u001b[39m, activation\u001b[39m=\u001b[39m\u001b[39m\"\u001b[39m\u001b[39mrelu\u001b[39m\u001b[39m\"\u001b[39m),\n\u001b[0;32m     14\u001b[0m     NaiveDense(input_size\u001b[39m=\u001b[39m\u001b[39m64\u001b[39m, output_size\u001b[39m=\u001b[39m\u001b[39m32\u001b[39m, activation\u001b[39m=\u001b[39m\u001b[39m\"\u001b[39m\u001b[39mrelu\u001b[39m\u001b[39m\"\u001b[39m),\n\u001b[0;32m     15\u001b[0m     NaiveDense(input_size\u001b[39m=\u001b[39m\u001b[39m32\u001b[39m, output_size\u001b[39m=\u001b[39m\u001b[39m10\u001b[39m, activation\u001b[39m=\u001b[39m\u001b[39m\"\u001b[39m\u001b[39msoftmax\u001b[39m\u001b[39m\"\u001b[39m)\n\u001b[0;32m     16\u001b[0m     ])\n\u001b[0;32m     18\u001b[0m model\u001b[39m=\u001b[39m keras\u001b[39m.\u001b[39mSequential([SimpleDense(\u001b[39m32\u001b[39m, activation\u001b[39m=\u001b[39m\u001b[39m\"\u001b[39m\u001b[39mrelu\u001b[39m\u001b[39m\"\u001b[39m),\n\u001b[0;32m     19\u001b[0m                          SimpleDense(\u001b[39m64\u001b[39m, activation\u001b[39m=\u001b[39m\u001b[39m\"\u001b[39m\u001b[39mrelu\u001b[39m\u001b[39m\"\u001b[39m),\n\u001b[0;32m     20\u001b[0m                          SimpleDense(\u001b[39m32\u001b[39m, activation\u001b[39m=\u001b[39m\u001b[39m\"\u001b[39m\u001b[39mrelu\u001b[39m\u001b[39m\"\u001b[39m),\n\u001b[0;32m     21\u001b[0m                          SimpleDense(\u001b[39m10\u001b[39m, activation\u001b[39m=\u001b[39m\u001b[39m\"\u001b[39m\u001b[39msoftmax\u001b[39m\u001b[39m\"\u001b[39m)])\n",
      "\u001b[1;31mNameError\u001b[0m: name 'NaiveDense' is not defined"
     ]
    }
   ],
   "source": [
    "# Building Layers on The Fly\n",
    "\n",
    "from tensorflow import keras\n",
    "from tensorflow.keras import layers, models\n",
    "\n",
    "model= models.Sequential([\n",
    "    layers.Dense(\n",
    "        32, activation=\"relu\")\n",
    "    ,layers.Dense(32)])\n",
    "\n",
    "model= NaiveSequential([\n",
    "    NaiveDense(input_size=784 , output_size=32, activation=\"relu\"),\n",
    "    NaiveDense(input_size=32, output_size=64, activation=\"relu\"),\n",
    "    NaiveDense(input_size=64, output_size=32, activation=\"relu\"),\n",
    "    NaiveDense(input_size=32, output_size=10, activation=\"softmax\")\n",
    "    ])\n",
    "\n",
    "model= keras.Sequential([SimpleDense(32, activation=\"relu\"),\n",
    "                         SimpleDense(64, activation=\"relu\"),\n",
    "                         SimpleDense(32, activation=\"relu\"),\n",
    "                         SimpleDense(10, activation=\"softmax\")])"
   ]
  },
  {
   "cell_type": "code",
   "execution_count": null,
   "metadata": {},
   "outputs": [],
   "source": [
    "# Configuring The Learning Process\n",
    "\n",
    "model= keras.Sequential([keras.layers.Dense(1)])\n",
    "model.compile(\n",
    "    optimizer=\"rmsprop\"\n",
    "    ,loss=\"mean_squared_error\"\n",
    "    ,metrics=[\"accuracy\"])\n",
    "\n",
    "model.compile(\n",
    "    optimizer=keras.optimizers.RMSprop()\n",
    "    ,loss=keras.losses.MeanSquaredError()\n",
    "    ,metrics=[keras.metrics.BinaryAccuracy()])\n",
    "\n",
    "model.compile(\n",
    "    optimizer=keras.optimizers.RMSprop(learning_rate=1e-4),\n",
    "    loss=my_custom_loss,\n",
    "    metrics=[my_custom_metric_1, my_custom_metric_2])"
   ]
  },
  {
   "cell_type": "code",
   "execution_count": null,
   "metadata": {},
   "outputs": [],
   "source": [
    "# Training the Models\n",
    "\n",
    "history= model.fit(\n",
    "    inputs,\n",
    "    targets,\n",
    "    epochs=5,\n",
    "    batch_size=128)\n",
    "\n",
    "history.history"
   ]
  },
  {
   "cell_type": "code",
   "execution_count": null,
   "metadata": {},
   "outputs": [],
   "source": [
    "# Using The validation_data Argument\n",
    "\n",
    "import numpy as np\n",
    "\n",
    "model= keras.Sequential([keras.layers.Dense(1)])\n",
    "model.compile(\n",
    "    optimizer=keras.optimizers.RMSprop(learning_rate=0.1),\n",
    "    loss=keras.losses.MeanSquaredError(),\n",
    "    metrics=[keras.metrics.BinaryAccuracy()])\n",
    "\n",
    "indices_permutation= np.random.permutation(len(inputs))\n",
    "shuffled_inputs= inputs[indices_permutation]\n",
    "shuffled_targets= targets[indices_permutation]\n",
    "\n",
    "num_validation_samples= int(0.3* len(inputs))\n",
    "val_inputs= shuffled_inputs[:num_validation_samples]\n",
    "val_targets= shuffled_targets[:num_validation_samples]\n",
    "training_inputs= shuffled_inputs[num_validation_samples:]\n",
    "\n",
    "training_targets= shuffled_targets[num_validation_samples:]\n",
    "model.fit(\n",
    "    training_inputs,training_targets,\n",
    "    epochs=5,batch_size=16,\n",
    "    validation_data=(val_inputs, val_targets)\n",
    ")"
   ]
  },
  {
   "cell_type": "code",
   "execution_count": null,
   "metadata": {},
   "outputs": [],
   "source": [
    "# Using The Models\n",
    "\n",
    "predictions= model.predict(val_inputs, batch_size=128)\n",
    "print(predictions[:10])"
   ]
  }
 ],
 "metadata": {
  "kernelspec": {
   "display_name": "Python 3",
   "language": "python",
   "name": "python3"
  },
  "language_info": {
   "codemirror_mode": {
    "name": "ipython",
    "version": 3
   },
   "file_extension": ".py",
   "mimetype": "text/x-python",
   "name": "python",
   "nbconvert_exporter": "python",
   "pygments_lexer": "ipython3",
   "version": "3.10.10"
  },
  "orig_nbformat": 4
 },
 "nbformat": 4,
 "nbformat_minor": 2
}
