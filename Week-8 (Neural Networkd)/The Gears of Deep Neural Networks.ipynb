{
 "cells": [
  {
   "cell_type": "code",
   "execution_count": null,
   "metadata": {},
   "outputs": [],
   "source": [
    "# Tensor Operations\n",
    "import time\n",
    "import numpy as np\n",
    "\n",
    "keras.layers.Dense(512, activation=\"relu\")\n",
    "\n",
    "output= relu(dot(input, W) + b)"
   ]
  },
  {
   "cell_type": "code",
   "execution_count": null,
   "metadata": {},
   "outputs": [],
   "source": [
    "# Element-wise Operations\n",
    "\n",
    "def naive_relu(x):\n",
    "    assert len(x.shape) == 2\n",
    "    x= x.copy()\n",
    "    for i in range(x.shape[0]):\n",
    "        for j in range(x.shape[1]):\n",
    "            x[i, j] = max(x[i, j], 0)\n",
    "    return x\n",
    "\n",
    "def naive_add(x, y):\n",
    "    assert len(x.shape) == 2\n",
    "    assert x.shape == y.shape\n",
    "    x = x.copy()\n",
    "    for i in range(x.shape[0]):\n",
    "        for j in range(x.shape[1]):\n",
    "            x[i, j] += y[i, j]\n",
    "    return x\n",
    "\n",
    "z= x + y\n",
    "z= np.maximum(z, 0.)\n",
    "\n",
    "x= np.random.random((20, 100))\n",
    "y= np.random.random((20, 100))\n",
    "t0= time.time()\n",
    "for _ in range(1000):\n",
    "z= x+ y\n",
    "z= np.maximum(z, 0.)\n",
    "print(\"Took: {0:.5f}s\".format(time.time() -t0))\n",
    "\n",
    "t0= time.time()\n",
    "for _ in range(1000):\n",
    "    z= naive_add(x, y)\n",
    "    z= naive_relu(z)\n",
    "print(\"Took: {0:.5f}s\".format(time.time() -t0))"
   ]
  },
  {
   "cell_type": "code",
   "execution_count": null,
   "metadata": {},
   "outputs": [],
   "source": [
    "# Broadcasting\n",
    "\n",
    "import numpy as np\n",
    "\n",
    "X= np.random.random((32, 10))\n",
    "y= np.random.random((10,))\n",
    "\n",
    "y= np.expand_dims(y, axis=0)\n",
    "\n",
    "Y= np.concatenate([y] * 32, axis=0)\n",
    "\n",
    "def naive_add_matrix_and_vector(x, y):\n",
    "    assert len(x.shape) == 2\n",
    "    assert len(y.shape) == 1\n",
    "    assert x.shape[1] == y.shape[0]\n",
    "    x= x.copy()\n",
    "    for i in range(x.shape[0]):\n",
    "        for j in range(x.shape[1]):\n",
    "            x[i, j] += y[j]\n",
    "    return x\n",
    "\n",
    "x= np.random.random((64, 3, 32, 10))\n",
    "y= np.random.random((32, 10))\n",
    "z= np.maximum(x, y)"
   ]
  },
  {
   "cell_type": "code",
   "execution_count": null,
   "metadata": {},
   "outputs": [],
   "source": [
    "# Tensor Product\n",
    "\n",
    "import numpy as np\n",
    "\n",
    "def naive_vector_dot(x, y):\n",
    "    assert len(x.shape) == 1\n",
    "    assert len(y.shape) == 1\n",
    "    assert x.shape[0] == y.shape[0]\n",
    "    z= 0.\n",
    "    for i in range(x.shape[0]):\n",
    "        z+= x[i] *  y[i] \n",
    "    return z\n",
    "\n",
    "def naive_matrix_vector_dot(x, y):\n",
    "    assert len(x.shape) == 2\n",
    "    assert len(y.shape) == 1\n",
    "    assert x.shape[1] == y.shape[0]\n",
    "    z= np.zeros(x.shape[0])\n",
    "    for i in range(x.shape[0]):\n",
    "        for j in range(x.shape[1]):\n",
    "            z[i] += x[i, j] * y[j]\n",
    "    return z\n",
    "def naive_matrix_dot(x, y):\n",
    "    assert len(x.shape) == 2\n",
    "    assert len(y.shape) == 2\n",
    "    assert x.shape[1] == y.shape[0]\n",
    "    z = np.zeros((x.shape[0], y.shape[1]))\n",
    "    for i in range(x.shape[0]):\n",
    "        for j in range(y.shape[1]):\n",
    "            row_x = x[i, :]\n",
    "            column_y = y[:, j]\n",
    "            z[i, j] = naive_vector_dot(row_x, column_y)\n",
    "    return z"
   ]
  },
  {
   "cell_type": "code",
   "execution_count": 2,
   "metadata": {},
   "outputs": [
    {
     "data": {
      "text/plain": [
       "(20, 300)"
      ]
     },
     "execution_count": 2,
     "metadata": {},
     "output_type": "execute_result"
    }
   ],
   "source": [
    "# Tensor Reshaping\n",
    "\n",
    "import numpy as np\n",
    "from numpy import array\n",
    "\n",
    "x= np.array([[0., 1.],\n",
    "            [2., 3.],\n",
    "            [4., 5.]])\n",
    "x.shape\n",
    "\n",
    "x= x.reshape((6, 1))\n",
    "x\n",
    "array([[0.], [1.], [2.], [3.], [4.], [5.]])\n",
    "\n",
    "x= x.reshape((2, 3))\n",
    "x\n",
    "array([[0., 1., 2.], [3., 4., 5.]])\n",
    "\n",
    "x= np.zeros((300, 20))\n",
    "x= np.transpose(x)\n",
    "x.shape"
   ]
  }
 ],
 "metadata": {
  "kernelspec": {
   "display_name": "Python 3",
   "language": "python",
   "name": "python3"
  },
  "language_info": {
   "codemirror_mode": {
    "name": "ipython",
    "version": 3
   },
   "file_extension": ".py",
   "mimetype": "text/x-python",
   "name": "python",
   "nbconvert_exporter": "python",
   "pygments_lexer": "ipython3",
   "version": "3.10.10"
  },
  "orig_nbformat": 4
 },
 "nbformat": 4,
 "nbformat_minor": 2
}
