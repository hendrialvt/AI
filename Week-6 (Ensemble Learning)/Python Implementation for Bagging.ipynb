{
 "cells": [
  {
   "cell_type": "code",
   "execution_count": 8,
   "metadata": {},
   "outputs": [],
   "source": [
    "# --- SECTION 1 ---\n",
    "# Libraries and data loading\n",
    "from sklearn.datasets import load_digits\n",
    "from sklearn.tree import DecisionTreeClassifier\n",
    "from sklearn import metrics\n",
    "import numpy as np\n",
    "import time\n",
    "\n",
    "start = time.time()\n",
    "\n",
    "digits = load_digits()\n",
    "\n",
    "train_size = 1500\n",
    "train_x, train_y = digits.data[:train_size], digits.target[:train_size]\n",
    "test_x, test_y = digits.data[train_size:], digits.target[train_size:]"
   ]
  },
  {
   "cell_type": "code",
   "execution_count": 9,
   "metadata": {},
   "outputs": [],
   "source": [
    "#--- SECTION 2 ---\n",
    "# Create our bootstrap samples and train the classifiers\n",
    "ensemble_size = 10\n",
    "base_learners = []\n",
    "\n",
    "for _ in range(ensemble_size):\n",
    "    # We sample indices in order to access features and targets\n",
    "    bootstrap_sample_indices = np.random.randint(0, train_size, size=train_size)\n",
    "    bootstrap_x = train_x[bootstrap_sample_indices]\n",
    "    bootstrap_y = train_y[bootstrap_sample_indices]\n",
    "    dtree = DecisionTreeClassifier()\n",
    "    dtree.fit(bootstrap_x, bootstrap_y)\n",
    "    base_learners.append(dtree)"
   ]
  },
  {
   "cell_type": "code",
   "execution_count": 10,
   "metadata": {},
   "outputs": [],
   "source": [
    "#--- SECTION 3 ---\n",
    "# Predict with the base learners and evaluate them\n",
    "base_predictions = []\n",
    "base_accuracy = []\n",
    "for learner in base_learners:\n",
    "    predictions = learner.predict(test_x)\n",
    "    base_predictions.append(predictions)\n",
    "    acc = metrics.accuracy_score(test_y, predictions)\n",
    "    base_accuracy.append(acc)"
   ]
  },
  {
   "cell_type": "code",
   "execution_count": 11,
   "metadata": {},
   "outputs": [],
   "source": [
    "#--- SECTION 4 ---\n",
    "# Combine the base learners' predictions\n",
    "ensemble_predictions = []\n",
    "# Find the most voted class for each test instance\n",
    "for i in range(len(test_y)):\n",
    "    # Count the votes for each class\n",
    "    counts = [0 for _ in range(10)]\n",
    "    for learner_predictions in base_predictions:\n",
    "         counts[learner_predictions[i]] = counts[learner_predictions[i]]+1\n",
    "\n",
    "    # Find the class with most votes\n",
    "    final = np.argmax(counts)\n",
    "    # Add the class to the final predictions\n",
    "    ensemble_predictions.append(final)\n",
    "\n",
    "ensemble_acc = metrics.accuracy_score(test_y, ensemble_predictions)\n",
    "\n",
    "end = time.time()"
   ]
  },
  {
   "cell_type": "code",
   "execution_count": 12,
   "metadata": {},
   "outputs": [
    {
     "name": "stdout",
     "output_type": "stream",
     "text": [
      "Base Learners:\n",
      "------------------------------\n",
      "Learner 1: 0.71\n",
      "Learner 2: 0.71\n",
      "Learner 3: 0.73\n",
      "Learner 4: 0.74\n",
      "Learner 5: 0.75\n",
      "Learner 6: 0.75\n",
      "Learner 7: 0.75\n",
      "Learner 8: 0.77\n",
      "Learner 9: 0.78\n",
      "Learner 10: 0.80\n",
      "------------------------------\n",
      "Bagging: 0.85\n"
     ]
    }
   ],
   "source": [
    "# --- SECTION 5 ---\n",
    "# Print the accuracy\n",
    "print('Base Learners:')\n",
    "print('-'*30)\n",
    "for index, acc in enumerate(sorted(base_accuracy)):\n",
    "    print(f'Learner {index+1}: %.2f' % acc)\n",
    "print('-'*30)\n",
    "print('Bagging: %.2f' % ensemble_acc)"
   ]
  }
 ],
 "metadata": {
  "kernelspec": {
   "display_name": "Python 3",
   "language": "python",
   "name": "python3"
  },
  "language_info": {
   "codemirror_mode": {
    "name": "ipython",
    "version": 3
   },
   "file_extension": ".py",
   "mimetype": "text/x-python",
   "name": "python",
   "nbconvert_exporter": "python",
   "pygments_lexer": "ipython3",
   "version": "3.10.10"
  },
  "orig_nbformat": 4
 },
 "nbformat": 4,
 "nbformat_minor": 2
}
