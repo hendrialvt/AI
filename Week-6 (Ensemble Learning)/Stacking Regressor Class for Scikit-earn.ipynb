{
 "cells": [
  {
   "cell_type": "code",
   "execution_count": 36,
   "metadata": {},
   "outputs": [],
   "source": [
    "# --- SECTION 1 ---\n",
    "# Libraries\n",
    "import numpy as np\n",
    "from sklearn.model_selection import KFold\n",
    "from copy import deepcopy"
   ]
  },
  {
   "cell_type": "code",
   "execution_count": 37,
   "metadata": {},
   "outputs": [],
   "source": [
    "class StackingRegressor():\n",
    "    # --- SECTION 2 ---\n",
    "    # The constructor\n",
    "    def __init__(self, learners):\n",
    "        # Create a list of sizes for each stacking level\n",
    "        # And a list of deep copied learners\n",
    "        self.level_sizes = []\n",
    "        self.learners = []\n",
    "        for learning_level in learners:\n",
    "            self.level_sizes.append(len(learning_level))\n",
    "            level_learners = []\n",
    "            for learner in learning_level:\n",
    "                level_learners.append(deepcopy(learner))\n",
    "            self.learners.append(level_learners)\n"
   ]
  },
  {
   "cell_type": "code",
   "execution_count": 38,
   "metadata": {},
   "outputs": [],
   "source": [
    "# --- SECTION 3 ---\n",
    "# The fit function. Creates training meta data for every level and trains each level on the previous level's meta data\n",
    "def fit(self, x, y):\n",
    "    # Create a list of training meta data, one for each stacking leveland another one for the targets. \n",
    "    meta_data = [x]\n",
    "    meta_targets = [y]\n",
    "    for i in range(len(self.learners)):\n",
    "        level_size = self.level_sizes[i]\n",
    "        # Create the meta data and target variables for this level\n",
    "        data_z = np.zeros((level_size, len(x)))\n",
    "        target_z = np.zeros(len(x))\n",
    "        train_x = meta_data[i]\n",
    "        train_y = meta_targets[i]\n",
    "        KF = KFold(n_splits=5) # Create the cross-validation folds\n",
    "        meta_index = 0\n",
    "        for train_indices, test_indices in KF.split(x):\n",
    "            # Train each learner on the K-1 folds and create meta data for the Kth fold\n",
    "            for j in range(len(self.learners[i])):\n",
    "                learner = self.learners[i][j]\n",
    "                learner.fit(train_x[train_indices], train_y[train_indices])\n",
    "                predictions = learner.predict(train_x[test_indices])\n",
    "                data_z[j][meta_index:meta_index+len(test_indices)] = predictions\n",
    "            target_z[meta_index:meta_index+len(test_indices)] = train_y[test_indices]\n",
    "            meta_index += len(test_indices)\n",
    "        data_z = data_z.transpose() # Add the data and targets to the meta data lists\n",
    "        meta_data.append(data_z)\n",
    "        meta_targets.append(target_z)\n",
    "        for learner in self.learners[i]: # Train the learner on the whole previous meta data\n",
    "            learner.fit(train_x, train_y)"
   ]
  },
  {
   "cell_type": "code",
   "execution_count": 39,
   "metadata": {},
   "outputs": [],
   "source": [
    "# --- SECTION 4 ---\n",
    "# The predict function. Creates meta data for the test data and returns\n",
    "# all of them. The actual predictions can be accessed with meta_data[-1]\n",
    "def predict(self, x):\n",
    "    # Create a list of training meta data, one for each stacking level\n",
    "    meta_data = [x]\n",
    "    for i in range(len(self.learners)):\n",
    "        level_size = self.level_sizes[i]\n",
    "        data_z = np.zeros((level_size, len(x)))\n",
    "        test_x = meta_data[i]\n",
    "\n",
    "        # Create the cross-validation folds\n",
    "        KF = KFold(n_splits=5)\n",
    "        for train_indices, test_indices in KF.split(x):\n",
    "            # Train each learner on the K-1 folds and create\n",
    "            # meta data for the Kth fold\n",
    "            for j in range(len(self.learners[i])):\n",
    "               learner = self.learners[i][j]\n",
    "               predictions = learner.predict(test_x)\n",
    "               data_z[j] = predictions\n",
    "\n",
    "        # Add the data and targets to the meta data lists\n",
    "        data_z = data_z.transpose()\n",
    "        meta_data.append(data_z)\n",
    "\n",
    "    # Return the meta_data the final layer's prediction can be accessed\n",
    "    # With meta_data[-1]\n",
    "    return meta_data"
   ]
  },
  {
   "cell_type": "code",
   "execution_count": 40,
   "metadata": {},
   "outputs": [
    {
     "ename": "IndentationError",
     "evalue": "unexpected indent (1354291473.py, line 28)",
     "output_type": "error",
     "traceback": [
      "\u001b[1;36m  Cell \u001b[1;32mIn[40], line 28\u001b[1;36m\u001b[0m\n\u001b[1;33m    sc = StackingRegressor([[knn,dtr,ridge],[meta_learner]])\u001b[0m\n\u001b[1;37m    ^\u001b[0m\n\u001b[1;31mIndentationError\u001b[0m\u001b[1;31m:\u001b[0m unexpected indent\n"
     ]
    }
   ],
   "source": [
    "#--- SECTION 5 ---\n",
    "# Use the classifier\n",
    "from sklearn.datasets import load_diabetes\n",
    "from sklearn.neighbors import KNeighborsRegressor\n",
    "from sklearn.tree import DecisionTreeRegressor\n",
    "from sklearn.linear_model import LinearRegression, Ridge\n",
    "from sklearn import metrics\n",
    "\n",
    "diabetes = load_diabetes()\n",
    "\n",
    "train_x, train_y = diabetes.data[:400], diabetes.target[:400]\n",
    "test_x, test_y = diabetes.data[400:], diabetes.target[400:]\n",
    "\n",
    "base_learners = []\n",
    "\n",
    "knn = KNeighborsRegressor(n_neighbors=5)\n",
    "base_learners.append(knn)\n",
    "\n",
    "dtr = DecisionTreeRegressor(max_depth=4, random_state=123456)\n",
    "base_learners.append(dtr)\n",
    "\n",
    "ridge = Ridge()\n",
    "base_learners.append(ridge)\n",
    "\n",
    "meta_learner = LinearRegression()\n",
    "\n",
    "# Instantiate the stacking regressor\n",
    "sc = StackingRegressor([[knn,dtr,ridge],[meta_learner]])\n",
    "\n",
    " # Fit and predict\n",
    "    sc.fit(train_x, train_y)\n",
    "    meta_data = sc.predict(test_x)\n",
    "\n",
    "    # Evaluate base learners and meta learner\n",
    "    base_errors = []\n",
    "    base_r2 = []\n",
    "    for i in range(len(base_learners)):\n",
    "        learner = base_learners[i]\n",
    "    \n",
    "        predictions = meta_data[1][:,i]\n",
    "\n",
    "        err = metrics.mean_squared_error(test_y, predictions)\n",
    "        r2 = metrics.r2_score(test_y, predictions)\n",
    "    \n",
    "        base_errors.append(err)\n",
    "        base_r2.append(r2)\n",
    "    err = metrics.mean_squared_error(test_y, meta_data[-1])\n",
    "    r2 = metrics.r2_score(test_y, meta_data[-1])"
   ]
  },
  {
   "cell_type": "code",
   "execution_count": null,
   "metadata": {},
   "outputs": [
    {
     "ename": "AttributeError",
     "evalue": "'StackingRegressor' object has no attribute 'fit'",
     "output_type": "error",
     "traceback": [
      "\u001b[1;31m---------------------------------------------------------------------------\u001b[0m",
      "\u001b[1;31mAttributeError\u001b[0m                            Traceback (most recent call last)",
      "Cell \u001b[1;32mIn[35], line 6\u001b[0m\n\u001b[0;32m      3\u001b[0m final_estimator\u001b[39m=\u001b[39mLinearRegression()\n\u001b[0;32m      5\u001b[0m \u001b[39m# Fit and predict\u001b[39;00m\n\u001b[1;32m----> 6\u001b[0m sc\u001b[39m.\u001b[39;49mfit(train_x, train_y)\n\u001b[0;32m      7\u001b[0m meta_data \u001b[39m=\u001b[39m sc\u001b[39m.\u001b[39mpredict(test_x)\n\u001b[0;32m      9\u001b[0m \u001b[39m# Evaluate base learners and meta learner\u001b[39;00m\n",
      "\u001b[1;31mAttributeError\u001b[0m: 'StackingRegressor' object has no attribute 'fit'"
     ]
    }
   ],
   "source": []
  },
  {
   "cell_type": "code",
   "execution_count": null,
   "metadata": {},
   "outputs": [],
   "source": [
    "#Print the results\n",
    "print('ERROR R2 Name')\n",
    "print('-'*20)\n",
    "for i in range(len(base_learners)):\n",
    "    learner = base_learners[i]\n",
    "    print(f'{base_errors[i]:.1f} {base_r2[i]:.2f} {learner.__class__.__name__}')\n",
    "print(f'{err:.1f} {r2:.2f} Ensemble')"
   ]
  }
 ],
 "metadata": {
  "kernelspec": {
   "display_name": "Python 3",
   "language": "python",
   "name": "python3"
  },
  "language_info": {
   "codemirror_mode": {
    "name": "ipython",
    "version": 3
   },
   "file_extension": ".py",
   "mimetype": "text/x-python",
   "name": "python",
   "nbconvert_exporter": "python",
   "pygments_lexer": "ipython3",
   "version": "3.10.10"
  },
  "orig_nbformat": 4
 },
 "nbformat": 4,
 "nbformat_minor": 2
}
