{
 "cells": [
  {
   "cell_type": "code",
   "execution_count": 2,
   "metadata": {},
   "outputs": [],
   "source": [
    "# --- SECTION 1 ---\n",
    "# Libraries and data loading\n",
    "from sklearn.datasets import load_diabetes\n",
    "from xgboost import XGBRegressor\n",
    "from sklearn import metrics\n",
    "import numpy as np\n",
    "\n",
    "diabetes = load_diabetes()\n",
    "\n",
    "train_size = 400\n",
    "train_x, train_y = diabetes.data[:train_size], diabetes.target[:train_size]\n",
    "test_x, test_y = diabetes.data[train_size:], diabetes.target[train_size:]\n",
    "\n",
    "np.random.seed(123456)"
   ]
  },
  {
   "cell_type": "code",
   "execution_count": 3,
   "metadata": {},
   "outputs": [],
   "source": [
    "# --- SECTION 2 ---\n",
    "# Create the ensemble\n",
    "ensemble_size = 200\n",
    "ensemble = XGBRegressor(n_estimators=ensemble_size, n_jobs=4,\n",
    "                        max_depth=1, learning_rate=0.1,objective ='reg:squarederror')"
   ]
  },
  {
   "cell_type": "code",
   "execution_count": 4,
   "metadata": {},
   "outputs": [],
   "source": [
    "# --- SECTION 3 ---\n",
    "# Evaluate the ensemble\n",
    "ensemble.fit(train_x, train_y)\n",
    "predictions = ensemble.predict(test_x)"
   ]
  },
  {
   "cell_type": "code",
   "execution_count": 5,
   "metadata": {},
   "outputs": [
    {
     "name": "stdout",
     "output_type": "stream",
     "text": [
      "XGBoost:\n",
      "R-squared: 0.65\n",
      "MSE: 1932.91\n"
     ]
    }
   ],
   "source": [
    "# --- SECTION 4 ---\n",
    "# Print the metrics\n",
    "r2 = metrics.r2_score(test_y, predictions)\n",
    "mse = metrics.mean_squared_error(test_y, predictions)\n",
    "print('XGBoost:')\n",
    "print('R-squared: %.2f' % r2)\n",
    "print('MSE: %.2f' % mse)"
   ]
  }
 ],
 "metadata": {
  "kernelspec": {
   "display_name": "Python 3",
   "language": "python",
   "name": "python3"
  },
  "language_info": {
   "codemirror_mode": {
    "name": "ipython",
    "version": 3
   },
   "file_extension": ".py",
   "mimetype": "text/x-python",
   "name": "python",
   "nbconvert_exporter": "python",
   "pygments_lexer": "ipython3",
   "version": "3.10.10"
  },
  "orig_nbformat": 4
 },
 "nbformat": 4,
 "nbformat_minor": 2
}
