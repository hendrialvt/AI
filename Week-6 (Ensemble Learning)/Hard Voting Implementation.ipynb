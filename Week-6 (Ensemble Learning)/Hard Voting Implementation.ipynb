{
 "cells": [
  {
   "cell_type": "code",
   "execution_count": 1,
   "metadata": {},
   "outputs": [],
   "source": [
    "# ---SECTION 1 ---\n",
    "# Import the required libraries\n",
    "\n",
    "from sklearn import datasets, linear_model, svm, neighbors\n",
    "from sklearn.metrics import accuracy_score\n",
    "from numpy import argmax\n",
    "\n",
    "# Load the dataset\n",
    "breast_cancer= datasets.load_breast_cancer()\n",
    "x, y= breast_cancer.data, breast_cancer.target"
   ]
  },
  {
   "cell_type": "code",
   "execution_count": 2,
   "metadata": {},
   "outputs": [],
   "source": [
    "# ---SECTION 2 ---\n",
    "# Instantiate the learners (classifiers)\n",
    "learner_1= neighbors.KNeighborsClassifier(n_neighbors=5)\n",
    "learner_2= linear_model.Perceptron(tol=1e-2, random_state=0)\n",
    "learner_3= svm.SVC(gamma=0.001)"
   ]
  },
  {
   "cell_type": "code",
   "execution_count": 3,
   "metadata": {},
   "outputs": [
    {
     "data": {
      "text/plain": [
       "SVC(gamma=0.001)"
      ]
     },
     "execution_count": 3,
     "metadata": {},
     "output_type": "execute_result"
    }
   ],
   "source": [
    "# ---SECTION 3 ---\n",
    "# Split the train and test samples\n",
    "test_samples= 100\n",
    "x_train, y_train= x[:-test_samples], y[:-test_samples]\n",
    "x_test, y_test= x[-test_samples:], y[-test_samples:]\n",
    "\n",
    "# Fit learners with the train data\n",
    "learner_1.fit(x_train, y_train)\n",
    "learner_2.fit(x_train, y_train)\n",
    "learner_3.fit(x_train, y_train)"
   ]
  },
  {
   "cell_type": "code",
   "execution_count": 4,
   "metadata": {},
   "outputs": [
    {
     "name": "stderr",
     "output_type": "stream",
     "text": [
      "c:\\Users\\Dinova\\anaconda3\\lib\\site-packages\\sklearn\\neighbors\\_classification.py:228: FutureWarning: Unlike other reduction functions (e.g. `skew`, `kurtosis`), the default behavior of `mode` typically preserves the axis it acts along. In SciPy 1.11.0, this behavior will change: the default value of `keepdims` will become False, the `axis` over which the statistic is taken will be eliminated, and the value None will no longer be accepted. Set `keepdims` to True or False to avoid this warning.\n",
      "  mode, _ = stats.mode(_y[neigh_ind, k], axis=1)\n"
     ]
    }
   ],
   "source": [
    "#---SECTION 4 ---\n",
    "# Each learner predicts the classes of the test data\n",
    "predictions_1= learner_1.predict(x_test)\n",
    "predictions_2= learner_2.predict(x_test)\n",
    "predictions_3= learner_3.predict(x_test)"
   ]
  },
  {
   "cell_type": "code",
   "execution_count": 5,
   "metadata": {},
   "outputs": [],
   "source": [
    "# ---SECTION 5 ---\n",
    "# We combine the predictions with hard voting\n",
    "hard_predictions= []\n",
    "# For each predicted sample\n",
    "for i in range(test_samples):\n",
    "    # Count the votes for each class\n",
    "    counts= [0 for _ in range(2)]\n",
    "    counts[predictions_1[i]] = counts[predictions_1[i]]+1\n",
    "    counts[predictions_2[i]] = counts[predictions_2[i]]+1\n",
    "    counts[predictions_3[i]] = counts[predictions_3[i]]+1\n",
    "    # Find the class with most votes\n",
    "    final= argmax(counts)\n",
    "    # Add the class to the final predictions\n",
    "    hard_predictions.append(final)"
   ]
  },
  {
   "cell_type": "code",
   "execution_count": 6,
   "metadata": {},
   "outputs": [
    {
     "name": "stdout",
     "output_type": "stream",
     "text": [
      "L1: 0.94\n",
      "L2: 0.78\n",
      "L3: 0.88\n",
      "------------------------------\n",
      "Hard Voting: 0.9\n"
     ]
    }
   ],
   "source": [
    "# ---SECTION 6 ---\n",
    "# Accuracies of base learners\n",
    "print('L1:', accuracy_score(y_test, predictions_1))\n",
    "print('L2:', accuracy_score(y_test, predictions_2))\n",
    "print('L3:', accuracy_score(y_test, predictions_3))\n",
    "# Accuracy of hard voting\n",
    "print('-'*30)\n",
    "print('Hard Voting:', accuracy_score(y_test, hard_predictions))"
   ]
  }
 ],
 "metadata": {
  "kernelspec": {
   "display_name": "base",
   "language": "python",
   "name": "python3"
  },
  "language_info": {
   "codemirror_mode": {
    "name": "ipython",
    "version": 3
   },
   "file_extension": ".py",
   "mimetype": "text/x-python",
   "name": "python",
   "nbconvert_exporter": "python",
   "pygments_lexer": "ipython3",
   "version": "3.9.13"
  },
  "orig_nbformat": 4,
  "vscode": {
   "interpreter": {
    "hash": "51f0f47f7e8c68e154445eecb84b76e851c87bc004b6bcbf384d0629694a085e"
   }
  }
 },
 "nbformat": 4,
 "nbformat_minor": 2
}
