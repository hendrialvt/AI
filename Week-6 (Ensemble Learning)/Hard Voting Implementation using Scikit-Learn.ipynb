{
 "cells": [
  {
   "cell_type": "code",
   "execution_count": 1,
   "metadata": {},
   "outputs": [],
   "source": [
    "# Import the required libraries\n",
    "from sklearn import datasets, linear_model, svm, neighbors\n",
    "from sklearn.ensemble import VotingClassifier\n",
    "from sklearn.metrics import accuracy_score\n",
    "\n",
    "# Load the dataset\n",
    "breast_cancer= datasets.load_breast_cancer()\n",
    "x, y= breast_cancer.data, breast_cancer.target\n",
    "\n",
    "# Split the train and test samples\n",
    "test_samples= 100\n",
    "x_train, y_train= x[:-test_samples], y[:-test_samples]\n",
    "x_test, y_test= x[-test_samples:], y[-test_samples:]"
   ]
  },
  {
   "cell_type": "code",
   "execution_count": 2,
   "metadata": {},
   "outputs": [],
   "source": [
    "# Instantiate the learners (classifiers)\n",
    "learner_1= neighbors.KNeighborsClassifier(n_neighbors=5)\n",
    "learner_2= linear_model.Perceptron(tol=1e-2, random_state=0)\n",
    "learner_3= svm.SVC(gamma=0.001)"
   ]
  },
  {
   "cell_type": "code",
   "execution_count": 3,
   "metadata": {},
   "outputs": [],
   "source": [
    "# ---SECTION 3 ---\n",
    "# Instantiate the voting classifier\n",
    "voting= VotingClassifier([('KNN', learner_1), ('Prc', learner_2), ('SVM', learner_3)])"
   ]
  },
  {
   "cell_type": "code",
   "execution_count": 4,
   "metadata": {},
   "outputs": [
    {
     "data": {
      "text/plain": [
       "VotingClassifier(estimators=[('KNN', KNeighborsClassifier()),\n",
       "                             ('Prc', Perceptron(tol=0.01)),\n",
       "                             ('SVM', SVC(gamma=0.001))])"
      ]
     },
     "execution_count": 4,
     "metadata": {},
     "output_type": "execute_result"
    }
   ],
   "source": [
    "# ---SECTION 4 ---\n",
    "# Fit classifier with the training data\n",
    "voting.fit(x_train, y_train)"
   ]
  },
  {
   "cell_type": "code",
   "execution_count": 5,
   "metadata": {},
   "outputs": [
    {
     "name": "stderr",
     "output_type": "stream",
     "text": [
      "c:\\Users\\Dinova\\anaconda3\\lib\\site-packages\\sklearn\\neighbors\\_classification.py:228: FutureWarning: Unlike other reduction functions (e.g. `skew`, `kurtosis`), the default behavior of `mode` typically preserves the axis it acts along. In SciPy 1.11.0, this behavior will change: the default value of `keepdims` will become False, the `axis` over which the statistic is taken will be eliminated, and the value None will no longer be accepted. Set `keepdims` to True or False to avoid this warning.\n",
      "  mode, _ = stats.mode(_y[neigh_ind, k], axis=1)\n"
     ]
    }
   ],
   "source": [
    "# ---SECTION 5 ---\n",
    "# Predict the most voted class\n",
    "hard_predictions= voting.predict(x_test)"
   ]
  },
  {
   "cell_type": "code",
   "execution_count": 6,
   "metadata": {},
   "outputs": [
    {
     "name": "stdout",
     "output_type": "stream",
     "text": [
      "------------------------------\n",
      "Hard Voting:  0.90\n"
     ]
    }
   ],
   "source": [
    "# ---SECTION 6 ---\n",
    "# Accuracy of hard voting\n",
    "print('-'*30)\n",
    "print(\"Hard Voting: %5.2f\"% accuracy_score(y_test, hard_predictions))"
   ]
  }
 ],
 "metadata": {
  "kernelspec": {
   "display_name": "base",
   "language": "python",
   "name": "python3"
  },
  "language_info": {
   "codemirror_mode": {
    "name": "ipython",
    "version": 3
   },
   "file_extension": ".py",
   "mimetype": "text/x-python",
   "name": "python",
   "nbconvert_exporter": "python",
   "pygments_lexer": "ipython3",
   "version": "3.9.13"
  },
  "orig_nbformat": 4,
  "vscode": {
   "interpreter": {
    "hash": "51f0f47f7e8c68e154445eecb84b76e851c87bc004b6bcbf384d0629694a085e"
   }
  }
 },
 "nbformat": 4,
 "nbformat_minor": 2
}
