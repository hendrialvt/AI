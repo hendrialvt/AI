{
 "cells": [
  {
   "cell_type": "code",
   "execution_count": 1,
   "metadata": {},
   "outputs": [],
   "source": [
    "#---SECTION 1 ---\n",
    "# Libraries and data loading\n",
    "from sklearn.datasets import load_diabetes\n",
    "from sklearn.neighbors import KNeighborsRegressor\n",
    "from sklearn.tree import DecisionTreeRegressor\n",
    "from sklearn.linear_model import LinearRegression, Ridge\n",
    "from sklearn.model_selection import KFold\n",
    "from sklearn import metrics\n",
    "import numpy as np\n",
    "\n",
    "diabetes= load_diabetes()\n",
    "train_x, train_y= diabetes.data[:400], diabetes.target[:400]\n",
    "test_x, test_y= diabetes.data[400:], diabetes.target[400:]"
   ]
  },
  {
   "cell_type": "code",
   "execution_count": 2,
   "metadata": {},
   "outputs": [],
   "source": [
    "# ---SECTION 2 ---\n",
    "# Create the ensemble's base learners and meta-learner\n",
    "# Append base learners to a list for ease of access\n",
    "base_learners= []\n",
    "knn= KNeighborsRegressor(n_neighbors=5)\n",
    "base_learners.append(knn)\n",
    "dtr= DecisionTreeRegressor(max_depth=4, random_state=123456)\n",
    "base_learners.append(dtr)\n",
    "ridge= Ridge()\n",
    "base_learners.append(ridge)\n",
    "meta_learner= LinearRegression()"
   ]
  },
  {
   "cell_type": "code",
   "execution_count": 4,
   "metadata": {},
   "outputs": [],
   "source": [
    "# ---SECTION 3 ---\n",
    "# Create the training metadata\n",
    "# Create variables to store metadata and their targets\n",
    "meta_data= np.zeros((len(base_learners), len(train_x)))\n",
    "meta_targets= np.zeros(len(train_x))\n",
    "\n",
    "# Create the cross-validation folds\n",
    "KF= KFold(n_splits=5)\n",
    "meta_index= 0\n",
    "for train_indices, test_indices in KF.split(train_x):\n",
    "    # Train each learner on the K-1 folds\n",
    "    # # and create metadata for the Kth fold\n",
    "    for i in range(len(base_learners)):\n",
    "        learner= base_learners[i]\n",
    "        learner.fit(train_x[train_indices], train_y[train_indices])\n",
    "        predictions= learner.predict(train_x[test_indices])\n",
    "        meta_data[i][meta_index:meta_index+len(test_indices)] = predictions\n",
    "    meta_targets[meta_index:meta_index+len(test_indices)] = train_y[test_indices]\n",
    "    meta_index+= len(test_indices)\n",
    "\n",
    "# Transpose the metadata to be fed into the meta-learner\n",
    "meta_data= meta_data.transpose()"
   ]
  },
  {
   "cell_type": "code",
   "execution_count": 5,
   "metadata": {},
   "outputs": [],
   "source": [
    "# ---SECTION 4 ---\n",
    "# Create the metadata for the test set and evaluate the base learners\n",
    "test_meta_data= np.zeros((len(base_learners), len(test_x)))\n",
    "base_errors= []\n",
    "base_r2= []\n",
    "for i in range(len(base_learners)):\n",
    "    learner= base_learners[i]\n",
    "    learner.fit(train_x, train_y)\n",
    "    predictions= learner.predict(test_x)\n",
    "    test_meta_data[i] = predictions\n",
    "    err= metrics.mean_squared_error(test_y, predictions)\n",
    "    r2= metrics.r2_score(test_y, predictions)\n",
    "    base_errors.append(err)\n",
    "    base_r2.append(r2)\n",
    "\n",
    "test_meta_data= test_meta_data.transpose()"
   ]
  },
  {
   "cell_type": "code",
   "execution_count": 6,
   "metadata": {},
   "outputs": [],
   "source": [
    "# ---SECTION 5 ---\n",
    "# Fit the meta-learner on the train set and evaluate it on the test set\n",
    "meta_learner.fit(meta_data, meta_targets)\n",
    "ensemble_predictions= meta_learner.predict(test_meta_data)\n",
    "err= metrics.mean_squared_error(test_y, ensemble_predictions)\n",
    "r2= metrics.r2_score(test_y, ensemble_predictions)"
   ]
  },
  {
   "cell_type": "code",
   "execution_count": 9,
   "metadata": {},
   "outputs": [
    {
     "name": "stdout",
     "output_type": "stream",
     "text": [
      "ERROR R2 Name\n",
      "--------------------\n",
      "2697.8 0.51 KNeighborsRegressor\n",
      "3142.5 0.43 DecisionTreeRegressor\n",
      "2564.8 0.54 Ridge\n",
      "2066.6 0.63 Ensemble\n"
     ]
    }
   ],
   "source": [
    "# ---SECTION 6 ---\n",
    "# Print the results\n",
    "print('ERROR R2 Name')\n",
    "print('-'*20)\n",
    "for i in range(len(base_learners)):\n",
    "    learner= base_learners[i]\n",
    "    print(f'{base_errors[i]:.1f} {base_r2[i]:.2f} {learner.__class__.__name__}')\n",
    "print(f'{err:.1f} {r2:.2f} Ensemble')"
   ]
  }
 ],
 "metadata": {
  "kernelspec": {
   "display_name": "base",
   "language": "python",
   "name": "python3"
  },
  "language_info": {
   "codemirror_mode": {
    "name": "ipython",
    "version": 3
   },
   "file_extension": ".py",
   "mimetype": "text/x-python",
   "name": "python",
   "nbconvert_exporter": "python",
   "pygments_lexer": "ipython3",
   "version": "3.9.13"
  },
  "orig_nbformat": 4,
  "vscode": {
   "interpreter": {
    "hash": "51f0f47f7e8c68e154445eecb84b76e851c87bc004b6bcbf384d0629694a085e"
   }
  }
 },
 "nbformat": 4,
 "nbformat_minor": 2
}
