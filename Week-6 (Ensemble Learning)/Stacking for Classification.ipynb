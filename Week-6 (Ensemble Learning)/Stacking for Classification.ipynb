{
 "cells": [
  {
   "cell_type": "code",
   "execution_count": 1,
   "metadata": {},
   "outputs": [],
   "source": [
    "# ---SECTION 1 ---\n",
    "# Libraries and data loading\n",
    "from  sklearn.datasets import load_breast_cancer\n",
    "from sklearn.neighbors import KNeighborsClassifier\n",
    "from sklearn.tree import DecisionTreeClassifier\n",
    "from sklearn.neural_network import MLPClassifier\n",
    "from sklearn.naive_bayes import GaussianNB\n",
    "from sklearn.linear_model import LogisticRegression\n",
    "from sklearn.model_selection import KFold\n",
    "from sklearn import metrics\n",
    "import numpy as np\n",
    "\n",
    "bc= load_breast_cancer()\n",
    "train_x, train_y= bc.data[:400], bc.target[:400]\n",
    "test_x, test_y= bc.data[400:], bc.target[400:]"
   ]
  },
  {
   "cell_type": "code",
   "execution_count": 2,
   "metadata": {},
   "outputs": [
    {
     "ename": "SyntaxError",
     "evalue": "invalid syntax (2501587762.py, line 1)",
     "output_type": "error",
     "traceback": [
      "\u001b[1;36m  File \u001b[1;32m\"C:\\Users\\Dinova\\AppData\\Local\\Temp\\ipykernel_16464\\2501587762.py\"\u001b[1;36m, line \u001b[1;32m1\u001b[0m\n\u001b[1;33m    ---SECTION 2 ---\u001b[0m\n\u001b[1;37m               ^\u001b[0m\n\u001b[1;31mSyntaxError\u001b[0m\u001b[1;31m:\u001b[0m invalid syntax\n"
     ]
    }
   ],
   "source": [
    "---SECTION 2 ---\n",
    "# Create the ensemble's base learners and meta-learner\n",
    "# Append base learners to a list for ease of access\n",
    "base_learners= []\n",
    "knn= KNeighborsClassifier(n_neighbors=2)\n",
    "base_learners.append(knn)\n",
    "dtr= DecisionTreeClassifier(max_depth=4, random_state=123456)\n",
    "base_learners.append(dtr)\n",
    "mlpc= MLPClassifier(hidden_layer_sizes=(100, ),\n",
    "solver='lbfgs', random_state=123456)\n",
    "base_learners.append(mlpc)\n",
    "meta_learner= LogisticRegression(solver='lbfgs')"
   ]
  },
  {
   "cell_type": "code",
   "execution_count": null,
   "metadata": {},
   "outputs": [],
   "source": [
    "# ---SECTION 3 ---\n",
    "# Create the training metadata\n",
    "# Create variables to store metadata and their targets\n",
    "meta_data= np.zeros((len(base_learners), len(train_x)))\n",
    "meta_targets= np.zeros(len(train_x))\n",
    "# Create the cross-validation folds\n",
    "KF= KFold(n_splits=5)\n",
    "meta_index= 0\n",
    "for train_indices, test_indices in KF.split(train_x):\n",
    "# Train each learner on the K-1 folds and create\n",
    "# metadata for the Kth fold\n",
    "    for i in range(len(base_learners)):\n",
    "        learner= base_learners[i]\n",
    "        learner.fit(train_x[train_indices], train_y[train_indices])\n",
    "        predictions= learner.predict_proba(train_x[test_indices])[:,0]\n",
    "        meta_data[i][meta_index:meta_index+len(test_indices)] = predictions\n",
    "\n",
    "    meta_targets[meta_index:meta_index+len(test_indices)] = train_y[test_indices]\n",
    "    meta_index+= len(test_indices)\n",
    "# Transpose the metadata to be fed into the meta-learner\n",
    "meta_data= meta_data.transpose()"
   ]
  },
  {
   "cell_type": "code",
   "execution_count": null,
   "metadata": {},
   "outputs": [],
   "source": [
    "# ---SECTION 4 ---\n",
    "# Create the metadata for the test set and evaluate the base learners\n",
    "test_meta_data= np.zeros((len(base_learners), len(test_x)))\n",
    "base_acc= []\n",
    "for i in range(len(base_learners)):\n",
    "    learner= base_learners[i]\n",
    "    learner.fit(train_x, train_y)\n",
    "    predictions= learner.predict_proba(test_x)[:,0]\n",
    "    test_meta_data[i] = predictions\n",
    "\n",
    "    acc= metrics.accuracy_score(test_y, learner.predict(test_x))\n",
    "    base_acc.append(acc)\n",
    "    \n",
    "test_meta_data= test_meta_data.transpose()"
   ]
  },
  {
   "cell_type": "code",
   "execution_count": null,
   "metadata": {},
   "outputs": [],
   "source": [
    "# ---SECTION 5 ---\n",
    "# Fit the meta-learner on the train set and evaluate it on the test set\n",
    "meta_learner.fit(meta_data, meta_targets)\n",
    "ensemble_predictions= meta_learner.predict(test_meta_data)\n",
    "acc= metrics.accuracy_score(test_y, ensemble_predictions)\n",
    "# ---SECTION 6 ---\n",
    "# Print the results\n",
    "print('Acc Name')\n",
    "print('-'*20)\n",
    "for i in range(len(base_learners)):\n",
    "    learner= base_learners[i]\n",
    "    print(f'{base_acc[i]:.2f}{learner.__class__.__name__}')\n",
    "print(f'{acc:.2f}Ensemble')"
   ]
  }
 ],
 "metadata": {
  "kernelspec": {
   "display_name": "base",
   "language": "python",
   "name": "python3"
  },
  "language_info": {
   "codemirror_mode": {
    "name": "ipython",
    "version": 3
   },
   "file_extension": ".py",
   "mimetype": "text/x-python",
   "name": "python",
   "nbconvert_exporter": "python",
   "pygments_lexer": "ipython3",
   "version": "3.9.13"
  },
  "orig_nbformat": 4,
  "vscode": {
   "interpreter": {
    "hash": "51f0f47f7e8c68e154445eecb84b76e851c87bc004b6bcbf384d0629694a085e"
   }
  }
 },
 "nbformat": 4,
 "nbformat_minor": 2
}
