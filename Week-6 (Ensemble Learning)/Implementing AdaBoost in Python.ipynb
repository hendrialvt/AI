{
 "cells": [
  {
   "cell_type": "code",
   "execution_count": 13,
   "metadata": {},
   "outputs": [],
   "source": [
    "# --- SECTION 1 ---\n",
    "# Libraries and data loading\n",
    "from copy import deepcopy\n",
    "from sklearn.datasets import load_breast_cancer\n",
    "from sklearn.tree import DecisionTreeClassifier\n",
    "from sklearn import metrics\n",
    "import numpy as np\n",
    "\n",
    "bc = load_breast_cancer()\n",
    "\n",
    "train_size = 400\n",
    "train_x, train_y = bc.data[:train_size], bc.target[:train_size]\n",
    "test_x, test_y = bc.data[train_size:], bc.target[train_size:]\n",
    "\n",
    "np.random.seed(123456)"
   ]
  },
  {
   "cell_type": "code",
   "execution_count": 14,
   "metadata": {},
   "outputs": [],
   "source": [
    "# --- SECTION 2 ---\n",
    "# Create the ensemble\n",
    "ensemble_size = 100\n",
    "base_classifier = DecisionTreeClassifier(max_depth=1)\n",
    "\n",
    "# Create the initial weights\n",
    "data_weights = np.zeros(train_size) + 1/train_size\n",
    "# Create a list of indices for the train set\n",
    "indices = [x for x in range(train_size)]\n",
    "\n",
    "base_learners = []\n",
    "learners_errors = np.zeros(ensemble_size)\n",
    "learners_weights = np.zeros(ensemble_size)\n",
    "\n",
    "errs = []"
   ]
  },
  {
   "cell_type": "code",
   "execution_count": 15,
   "metadata": {},
   "outputs": [],
   "source": [
    "# Create each base learner\n",
    "for i in range(ensemble_size):\n",
    "    weak_learner = deepcopy(base_classifier)\n",
    "\n",
    "    # Choose the samples by sampling with replacement.\n",
    "    # Each instance's probability is dictated by its weight.\n",
    "    data_indices = np.random.choice(indices, train_size, p=data_weights)\n",
    "    sample_x, sample_y = train_x[data_indices], train_y[data_indices]\n",
    "\n",
    "    # Fit the weak learner and evaluate it\n",
    "    weak_learner.fit(sample_x, sample_y)\n",
    "    predictions = weak_learner.predict(train_x)\n",
    "\n",
    "    errors = predictions != train_y\n",
    "    corrects = predictions == train_y\n",
    "\n",
    "    # Calculate the weighted errors\n",
    "    weighted_errors = data_weights*errors\n",
    "    \n",
    "    # The base learner's error is the average of the weighted errors\n",
    "    learner_error = np.mean(weighted_errors)\n",
    "    learners_errors[i] = learner_error \n",
    "\n",
    "    # The learner's weight\n",
    "    learner_weight = np.log((1-learner_error)/learner_error)/2\n",
    "    learners_weights[i] = learner_weight\n",
    "\n",
    "    # Update the data weights\n",
    "    data_weights[errors] = np.exp(data_weights[errors] * learner_weight)\n",
    "    data_weights[corrects] = np.exp(-data_weights[corrects] * learner_weight)\n",
    "    data_weights = data_weights/sum(data_weights)\n",
    "\n",
    "    # Save the learner\n",
    "    base_learners.append(weak_learner)"
   ]
  },
  {
   "cell_type": "code",
   "execution_count": 16,
   "metadata": {},
   "outputs": [],
   "source": [
    "# --- SECTION 3 ---\n",
    "# Evaluate the ensemble\n",
    "ensemble_predictions = []\n",
    "for learner, weight in zip(base_learners, learners_weights):\n",
    "    # Calculate the weighted predictions\n",
    "    prediction = learner.predict(test_x)\n",
    "    ensemble_predictions.append(prediction*weight)\n",
    "    \n",
    "# The final prediction is the weighted mean of the individual predictions\n",
    "ensemble_predictions = np.mean(ensemble_predictions, axis=0) >= 0.5\n",
    "ensemble_acc = metrics.accuracy_score(test_y, ensemble_predictions)"
   ]
  },
  {
   "cell_type": "code",
   "execution_count": 17,
   "metadata": {},
   "outputs": [
    {
     "name": "stdout",
     "output_type": "stream",
     "text": [
      "Boosting: 0.96\n"
     ]
    }
   ],
   "source": [
    "#--- SECTION 4 ---\n",
    "# Print the accuracy\n",
    "print('Boosting: %.2f' % ensemble_acc)"
   ]
  }
 ],
 "metadata": {
  "kernelspec": {
   "display_name": "Python 3",
   "language": "python",
   "name": "python3"
  },
  "language_info": {
   "codemirror_mode": {
    "name": "ipython",
    "version": 3
   },
   "file_extension": ".py",
   "mimetype": "text/x-python",
   "name": "python",
   "nbconvert_exporter": "python",
   "pygments_lexer": "ipython3",
   "version": "3.10.10"
  },
  "orig_nbformat": 4
 },
 "nbformat": 4,
 "nbformat_minor": 2
}
