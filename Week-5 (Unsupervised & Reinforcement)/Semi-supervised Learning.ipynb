{
 "cells": [
  {
   "cell_type": "code",
   "execution_count": 2,
   "metadata": {},
   "outputs": [
    {
     "name": "stdout",
     "output_type": "stream",
     "text": [
      "[ 0. -1. -1. -1. -1. -1. -1.  1.]\n",
      "[0. 0. 0. 0. 1. 1. 1. 1.]\n"
     ]
    }
   ],
   "source": [
    "import numpy as np\n",
    "from sklearn.semi_supervised import LabelSpreading\n",
    "\n",
    "X= np.array([[0,1],[1,1],[2,0],[3,1],[10,5],[11,6],[12,4],[13,5]])\n",
    "y= np.array([0,0,0,0,1,1,1,1])\n",
    "\n",
    "labels= np.full(8, -1.)\n",
    "labels[0] = 0\n",
    "labels[-1] = 1\n",
    "\n",
    "print(labels)\n",
    "label_spread= LabelSpreading(kernel='knn', alpha=0.8)\n",
    "label_spread.fit(X, labels)\n",
    "output_labels= label_spread.transduction_\n",
    "print(output_labels)"
   ]
  }
 ],
 "metadata": {
  "kernelspec": {
   "display_name": "base",
   "language": "python",
   "name": "python3"
  },
  "language_info": {
   "codemirror_mode": {
    "name": "ipython",
    "version": 3
   },
   "file_extension": ".py",
   "mimetype": "text/x-python",
   "name": "python",
   "nbconvert_exporter": "python",
   "pygments_lexer": "ipython3",
   "version": "3.9.13"
  },
  "orig_nbformat": 4,
  "vscode": {
   "interpreter": {
    "hash": "51f0f47f7e8c68e154445eecb84b76e851c87bc004b6bcbf384d0629694a085e"
   }
  }
 },
 "nbformat": 4,
 "nbformat_minor": 2
}
