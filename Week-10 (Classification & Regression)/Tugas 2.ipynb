{
  "cells": [
    {
      "cell_type": "code",
      "execution_count": 1,
      "metadata": {
        "id": "FX2gf3QBTapy"
      },
      "outputs": [],
      "source": [
        "# The IMDB Dataset\n",
        "\n",
        "from tensorflow.keras.datasets import imdb\n",
        "\n",
        "(train_data, train_labels), (test_data, test_labels) = imdb.load_data(num_words=10000)\n",
        "\n",
        "train_data[0]\n",
        "\n",
        "train_labels[0]\n",
        "\n",
        "max([max(sequence) for sequence in train_data])\n",
        "\n",
        "word_index= imdb.get_word_index()\n",
        "\n",
        "reverse_word_index= dict(\n",
        "    [(value, key) for(key, value) in word_index.items()])\n",
        "\n",
        "decoded_review= \" \".join(\n",
        "    [reverse_word_index.get(i-3, \"?\") for i in train_data[0]])"
      ]
    },
    {
      "cell_type": "code",
      "execution_count": 2,
      "metadata": {
        "id": "JYtJnujNTapz"
      },
      "outputs": [],
      "source": [
        "# Preparing The Data\n",
        "# Encoding the integer sequences via multi-hot encoding\n",
        "\n",
        "import numpy as np\n",
        "def vectorize_sequences(sequences, dimension=10000):\n",
        "    results= np.zeros((len(sequences), dimension))\n",
        "    for i, sequence in enumerate(sequences):\n",
        "        for j in sequence:\n",
        "            results[i, j] = 1.\n",
        "    return results\n",
        "\n",
        "x_train= vectorize_sequences(train_data)\n",
        "x_test= vectorize_sequences(test_data)\n",
        "\n",
        "x_train[0]\n",
        "\n",
        "y_train= np.asarray(train_labels).astype(\"float32\")\n",
        "y_test= np.asarray(test_labels).astype(\"float32\")"
      ]
    },
    {
      "cell_type": "code",
      "execution_count": 3,
      "metadata": {
        "id": "5kkQQWeWTap0",
        "colab": {
          "base_uri": "https://localhost:8080/"
        },
        "outputId": "0811bc50-00cd-4298-e39c-31f7e46ebbfb"
      },
      "outputs": [
        {
          "output_type": "stream",
          "name": "stdout",
          "text": [
            "Model: \"sequential\"\n",
            "_________________________________________________________________\n",
            " Layer (type)                Output Shape              Param #   \n",
            "=================================================================\n",
            " dense (Dense)               (None, 16)                160016    \n",
            "                                                                 \n",
            " dense_1 (Dense)             (None, 16)                272       \n",
            "                                                                 \n",
            " dense_2 (Dense)             (None, 16)                272       \n",
            "                                                                 \n",
            " dense_3 (Dense)             (None, 1)                 17        \n",
            "                                                                 \n",
            "=================================================================\n",
            "Total params: 160,577\n",
            "Trainable params: 160,577\n",
            "Non-trainable params: 0\n",
            "_________________________________________________________________\n"
          ]
        }
      ],
      "source": [
        "# Building The Model\n",
        "\n",
        "from tensorflow import keras\n",
        "from tensorflow.keras import layers\n",
        "from keras import models\n",
        "\n",
        "model = models.Sequential()\n",
        "model.add(layers.Dense(16, activation = \"relu\", input_shape=(10000, )))\n",
        "model.add(layers.Dense(16, activation = \"relu\"))\n",
        "model.add(layers.Dense(16, activation = \"relu\"))\n",
        "model.add(layers.Dense(1, activation = \"sigmoid\"))\n",
        "model.summary()"
      ]
    },
    {
      "cell_type": "code",
      "execution_count": 4,
      "metadata": {
        "id": "iB3WASPFTap0"
      },
      "outputs": [],
      "source": [
        "# Compiling The Model\n",
        "\n",
        "model.compile(optimizer=\"rmsprop\", loss=\"binary_crossentropy\", metrics=[\"accuracy\"])"
      ]
    },
    {
      "cell_type": "code",
      "execution_count": 5,
      "metadata": {
        "id": "Wawh90RTTap0"
      },
      "outputs": [],
      "source": [
        "# Validating The Approach\n",
        "\n",
        "x_val= x_train[:10000]\n",
        "partial_x_train= x_train[10000:]\n",
        "\n",
        "y_val= y_train[:10000]\n",
        "partial_y_train= y_train[10000:]"
      ]
    },
    {
      "cell_type": "code",
      "execution_count": 6,
      "metadata": {
        "colab": {
          "base_uri": "https://localhost:8080/"
        },
        "id": "RjxFB-zUTap0",
        "outputId": "034cfbfc-14f6-46e4-818e-8a3b1ef5ffd9"
      },
      "outputs": [
        {
          "output_type": "stream",
          "name": "stdout",
          "text": [
            "Epoch 1/10\n",
            "118/118 [==============================] - 3s 21ms/step - loss: 0.4114 - accuracy: 0.8333 - val_loss: 0.2905 - val_accuracy: 0.8849\n",
            "Epoch 2/10\n",
            "118/118 [==============================] - 2s 17ms/step - loss: 0.2121 - accuracy: 0.9219 - val_loss: 0.2850 - val_accuracy: 0.8856\n",
            "Epoch 3/10\n",
            "118/118 [==============================] - 2s 19ms/step - loss: 0.1470 - accuracy: 0.9477 - val_loss: 0.3187 - val_accuracy: 0.8834\n",
            "Epoch 4/10\n",
            "118/118 [==============================] - 1s 12ms/step - loss: 0.1076 - accuracy: 0.9625 - val_loss: 0.3842 - val_accuracy: 0.8772\n",
            "Epoch 5/10\n",
            "118/118 [==============================] - 2s 13ms/step - loss: 0.0726 - accuracy: 0.9756 - val_loss: 0.4502 - val_accuracy: 0.8719\n",
            "Epoch 6/10\n",
            "118/118 [==============================] - 2s 15ms/step - loss: 0.0442 - accuracy: 0.9861 - val_loss: 0.4995 - val_accuracy: 0.8734\n",
            "Epoch 7/10\n",
            "118/118 [==============================] - 1s 13ms/step - loss: 0.0253 - accuracy: 0.9932 - val_loss: 0.6399 - val_accuracy: 0.8673\n",
            "Epoch 8/10\n",
            "118/118 [==============================] - 6s 51ms/step - loss: 0.0158 - accuracy: 0.9958 - val_loss: 0.6786 - val_accuracy: 0.8628\n",
            "Epoch 9/10\n",
            "118/118 [==============================] - 2s 15ms/step - loss: 0.0085 - accuracy: 0.9978 - val_loss: 0.7853 - val_accuracy: 0.8681\n",
            "Epoch 10/10\n",
            "118/118 [==============================] - 1s 12ms/step - loss: 0.0042 - accuracy: 0.9988 - val_loss: 0.8346 - val_accuracy: 0.8666\n"
          ]
        },
        {
          "output_type": "execute_result",
          "data": {
            "text/plain": [
              "dict_keys(['loss', 'accuracy', 'val_loss', 'val_accuracy'])"
            ]
          },
          "metadata": {},
          "execution_count": 6
        }
      ],
      "source": [
        "# Training The Model\n",
        "\n",
        "history= model.fit(partial_x_train, partial_y_train, epochs=10, batch_size=128, validation_data=(x_val, y_val))\n",
        "\n",
        "history_dict= history.history\n",
        "history_dict.keys()"
      ]
    },
    {
      "cell_type": "code",
      "execution_count": 7,
      "metadata": {
        "colab": {
          "base_uri": "https://localhost:8080/",
          "height": 472
        },
        "id": "wx6t7xLPTap1",
        "outputId": "94b8b0cc-eb7f-4476-d384-7f608b247ff3"
      },
      "outputs": [
        {
          "output_type": "display_data",
          "data": {
            "text/plain": [
              "<Figure size 640x480 with 1 Axes>"
            ],
            "image/png": "[encoded data removed]"
          },
          "metadata": {}
        }
      ],
      "source": [
        "# Plotting The Training & Validation Loss\n",
        "\n",
        "import matplotlib.pyplot as plt\n",
        "history_dict= history.history\n",
        "loss_values= history_dict[\"loss\"]\n",
        "val_loss_values= history_dict[\"val_loss\"]\n",
        "\n",
        "epochs= range(1, len(loss_values) + 1)\n",
        "plt.plot(epochs, loss_values, \"bo\", label=\"Training loss\")\n",
        "plt.plot( epochs, val_loss_values, \"b\", label=\"Validation loss\")\n",
        "plt.title(\"Training and validation loss\")\n",
        "plt.xlabel(\"Epochs\")\n",
        "plt.ylabel(\"Loss\")\n",
        "plt.legend()\n",
        "plt.show()"
      ]
    },
    {
      "cell_type": "code",
      "execution_count": 8,
      "metadata": {
        "colab": {
          "base_uri": "https://localhost:8080/",
          "height": 472
        },
        "id": "B3tyNK8_Tap1",
        "outputId": "5bcfb770-a48b-4f35-f641-3e85d175329b"
      },
      "outputs": [
        {
          "output_type": "display_data",
          "data": {
            "text/plain": [
              "<Figure size 640x480 with 1 Axes>"
            ],
            "image/png": "[encoded data removed]"
          },
          "metadata": {}
        }
      ],
      "source": [
        "# Plotting The Training & Validation Accuracy\n",
        "\n",
        "plt.clf()\n",
        "acc= history_dict[\"accuracy\"]\n",
        "val_acc= history_dict[\"val_accuracy\"]\n",
        "plt.plot(epochs, acc, \"bo\", label=\"Training acc\")\n",
        "plt.plot(epochs, val_acc, \"b\", label=\"Validation acc\")\n",
        "plt.title(\"Training and validation accuracy\")\n",
        "plt.xlabel(\"Epochs\")\n",
        "plt.ylabel(\"Accuracy\")\n",
        "plt.legend()\n",
        "plt.show()"
      ]
    },
    {
      "cell_type": "code",
      "execution_count": 9,
      "metadata": {
        "colab": {
          "base_uri": "https://localhost:8080/"
        },
        "id": "2FxaBv9eTap1",
        "outputId": "8f684a64-ff6b-45c1-cfc9-072fbd9fd709"
      },
      "outputs": [
        {
          "output_type": "stream",
          "name": "stdout",
          "text": [
            "Model: \"sequential_1\"\n",
            "_________________________________________________________________\n",
            " Layer (type)                Output Shape              Param #   \n",
            "=================================================================\n",
            " dense_4 (Dense)             (None, 16)                160016    \n",
            "                                                                 \n",
            " dense_5 (Dense)             (None, 1)                 17        \n",
            "                                                                 \n",
            "=================================================================\n",
            "Total params: 160,033\n",
            "Trainable params: 160,033\n",
            "Non-trainable params: 0\n",
            "_________________________________________________________________\n"
          ]
        }
      ],
      "source": [
        "# Retraining a model from scratch\n",
        "\n",
        "from keras import models\n",
        "\n",
        "model = models.Sequential()\n",
        "model.add(layers.Dense(16, activation = \"relu\", input_shape=(10000, )))\n",
        "model.add(layers.Dense(1, activation = \"sigmoid\"))\n",
        "model.summary()\n",
        "\n",
        "model.compile(optimizer=\"rmsprop\", loss=\"binary_crossentropy\", metrics=[\"accuracy\"])"
      ]
    },
    {
      "cell_type": "code",
      "source": [
        "model.fit(x_train, y_train, epochs=4, batch_size=128)"
      ],
      "metadata": {
        "colab": {
          "base_uri": "https://localhost:8080/"
        },
        "id": "liAcMfBo-sux",
        "outputId": "e3461baa-7197-476b-abc4-8ae21013741c"
      },
      "execution_count": 10,
      "outputs": [
        {
          "output_type": "stream",
          "name": "stdout",
          "text": [
            "Epoch 1/4\n",
            "196/196 [==============================] - 2s 10ms/step - loss: 0.3680 - accuracy: 0.8589\n",
            "Epoch 2/4\n",
            "196/196 [==============================] - 2s 10ms/step - loss: 0.2249 - accuracy: 0.9178\n",
            "Epoch 3/4\n",
            "196/196 [==============================] - 3s 13ms/step - loss: 0.1839 - accuracy: 0.9323\n",
            "Epoch 4/4\n",
            "196/196 [==============================] - 2s 10ms/step - loss: 0.1601 - accuracy: 0.9424\n"
          ]
        },
        {
          "output_type": "execute_result",
          "data": {
            "text/plain": [
              "<keras.callbacks.History at 0x7f1b514383a0>"
            ]
          },
          "metadata": {},
          "execution_count": 10
        }
      ]
    },
    {
      "cell_type": "code",
      "execution_count": 11,
      "metadata": {
        "colab": {
          "base_uri": "https://localhost:8080/"
        },
        "id": "1uoQRC2DTap2",
        "outputId": "1301f05a-0a20-4d9b-fa87-d2ffe82ebb37"
      },
      "outputs": [
        {
          "output_type": "stream",
          "name": "stdout",
          "text": [
            "782/782 [==============================] - 2s 3ms/step - loss: 0.3048 - accuracy: 0.8812\n"
          ]
        }
      ],
      "source": [
        "results= model.evaluate(x_test, y_test)"
      ]
    },
    {
      "cell_type": "code",
      "source": [
        "results"
      ],
      "metadata": {
        "colab": {
          "base_uri": "https://localhost:8080/"
        },
        "id": "6jl9xO8swpsL",
        "outputId": "850122fb-4e78-4840-ebd5-6962db98f3a1"
      },
      "execution_count": 12,
      "outputs": [
        {
          "output_type": "execute_result",
          "data": {
            "text/plain": [
              "[0.3047749698162079, 0.8811600208282471]"
            ]
          },
          "metadata": {},
          "execution_count": 12
        }
      ]
    }
  ],
  "metadata": {
    "kernelspec": {
      "display_name": "Python 3",
      "language": "python",
      "name": "python3"
    },
    "language_info": {
      "codemirror_mode": {
        "name": "ipython",
        "version": 3
      },
      "file_extension": ".py",
      "mimetype": "text/x-python",
      "name": "python",
      "nbconvert_exporter": "python",
      "pygments_lexer": "ipython3",
      "version": "3.10.10"
    },
    "orig_nbformat": 4,
    "colab": {
      "provenance": []
    }
  },
  "nbformat": 4,
  "nbformat_minor": 0
}